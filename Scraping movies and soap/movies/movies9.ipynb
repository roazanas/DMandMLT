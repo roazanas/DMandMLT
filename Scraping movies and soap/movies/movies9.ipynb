{
 "cells": [
  {
   "cell_type": "markdown",
   "metadata": {},
   "source": [
    "9. Суммируя весь предыдущий опыт напишите программу, которая будет скрейпить данные из imdb. Рекомендуемые библиотеки: BeautifulSoup, requests и random. Программа должна выполнять следующий функционал:\n",
    "\n",
    "    a. При запуске программа должна подключаться к странице https://www.imdb.com/chart/top\n",
    "\n",
    "    b. Собирать список фильмов (и по вашему желанию их описание)\n",
    "\n",
    "    c. Выводить 10 случайных фильмов"
   ]
  },
  {
   "cell_type": "markdown",
   "metadata": {},
   "source": [
    "Работает только на первые 25 фильмов из-за ленивой подгрузки. Для возможност парсить все 250 фильмов была идея использовать Selenium, однако не имею в нём большого опыта"
   ]
  },
  {
   "cell_type": "code",
   "execution_count": 15,
   "metadata": {},
   "outputs": [
    {
     "name": "stdout",
     "output_type": "stream",
     "text": [
      "Requirement already satisfied: requests in c:\\users\\ntikh\\appdata\\local\\programs\\python\\python312\\lib\\site-packages (from -r requirements.txt (line 1)) (2.32.3)\n",
      "Requirement already satisfied: bs4 in c:\\users\\ntikh\\appdata\\local\\programs\\python\\python312\\lib\\site-packages (from -r requirements.txt (line 2)) (0.0.2)\n",
      "Requirement already satisfied: lxml in c:\\users\\ntikh\\appdata\\local\\programs\\python\\python312\\lib\\site-packages (from -r requirements.txt (line 3)) (5.3.0)\n",
      "Requirement already satisfied: tqdm in c:\\users\\ntikh\\appdata\\local\\programs\\python\\python312\\lib\\site-packages (from -r requirements.txt (line 4)) (4.66.4)\n",
      "Requirement already satisfied: charset-normalizer<4,>=2 in c:\\users\\ntikh\\appdata\\local\\programs\\python\\python312\\lib\\site-packages (from requests->-r requirements.txt (line 1)) (3.3.2)\n",
      "Requirement already satisfied: idna<4,>=2.5 in c:\\users\\ntikh\\appdata\\local\\programs\\python\\python312\\lib\\site-packages (from requests->-r requirements.txt (line 1)) (3.7)\n",
      "Requirement already satisfied: urllib3<3,>=1.21.1 in c:\\users\\ntikh\\appdata\\local\\programs\\python\\python312\\lib\\site-packages (from requests->-r requirements.txt (line 1)) (2.2.1)\n",
      "Requirement already satisfied: certifi>=2017.4.17 in c:\\users\\ntikh\\appdata\\local\\programs\\python\\python312\\lib\\site-packages (from requests->-r requirements.txt (line 1)) (2024.2.2)\n",
      "Requirement already satisfied: beautifulsoup4 in c:\\users\\ntikh\\appdata\\local\\programs\\python\\python312\\lib\\site-packages (from bs4->-r requirements.txt (line 2)) (4.12.3)\n",
      "Requirement already satisfied: colorama in c:\\users\\ntikh\\appdata\\local\\programs\\python\\python312\\lib\\site-packages (from tqdm->-r requirements.txt (line 4)) (0.4.6)\n",
      "Requirement already satisfied: soupsieve>1.2 in c:\\users\\ntikh\\appdata\\local\\programs\\python\\python312\\lib\\site-packages (from beautifulsoup4->bs4->-r requirements.txt (line 2)) (2.5)\n",
      "Note: you may need to restart the kernel to use updated packages.\n",
      "Requirement already satisfied: python-dotenv in c:\\users\\ntikh\\appdata\\local\\programs\\python\\python312\\lib\\site-packages (1.0.1)\n",
      "Note: you may need to restart the kernel to use updated packages.\n"
     ]
    }
   ],
   "source": [
    "%pip install -r requirements.txt\n",
    "%pip install python-dotenv\n",
    "# python-dotenv нужен для безопасного хранения API ключа"
   ]
  },
  {
   "cell_type": "code",
   "execution_count": 16,
   "metadata": {},
   "outputs": [],
   "source": [
    "import requests\n",
    "from bs4 import BeautifulSoup\n",
    "import random\n",
    "from IPython.display import HTML, display\n",
    "import re\n",
    "import os\n",
    "from dotenv import load_dotenv\n",
    "from tqdm.autonotebook import tqdm"
   ]
  },
  {
   "cell_type": "code",
   "execution_count": 17,
   "metadata": {},
   "outputs": [],
   "source": [
    "load_dotenv()\n",
    "RAPIDAPI_KEY = os.getenv('RAPIDAPI_KEY')"
   ]
  },
  {
   "cell_type": "code",
   "execution_count": 18,
   "metadata": {},
   "outputs": [],
   "source": [
    "headers = {\n",
    "    'User-Agent': 'Mozilla/5.0 (Windows NT 10.0; Win64; x64) AppleWebKit/537.36 (KHTML, like Gecko) Chrome/58.0.3029.110 Safari/537.3'\n",
    "}\n",
    "session = requests.session()"
   ]
  },
  {
   "cell_type": "code",
   "execution_count": 19,
   "metadata": {},
   "outputs": [],
   "source": [
    "def get_description(url):\n",
    "    html = session.get(url, headers=headers).text\n",
    "    soup = BeautifulSoup(html, 'lxml')\n",
    "    span = soup.find('span', {'data-testid': 'plot-xl', 'role': 'presentation'})\n",
    "    if span:\n",
    "        return span.text.strip()\n",
    "    else:\n",
    "        return \"No description found\""
   ]
  },
  {
   "cell_type": "code",
   "execution_count": 20,
   "metadata": {},
   "outputs": [],
   "source": [
    "def deep_translate(text):\n",
    "    \"\"\"\n",
    "    Взял реализацию функции перевода из старого проекта\n",
    "    \"\"\"\n",
    "    if not RAPIDAPI_KEY:\n",
    "        return ''\n",
    "    url = 'https://deep-translate1.p.rapidapi.com/language/translate/v2'\n",
    "    payload = {\n",
    "        'q': text,\n",
    "        'source': 'en',\n",
    "        'target': 'ru'\n",
    "    }\n",
    "   \n",
    "    headers = {\n",
    "        'content-type': 'application/json',\n",
    "        'X-RapidAPI-Key': RAPIDAPI_KEY,\n",
    "        'X-RapidAPI-Host': 'deep-translate1.p.rapidapi.com'\n",
    "    }\n",
    "    try:\n",
    "        return requests.post(url, json=payload, headers=headers).json()['data']['translations']['translatedText']\n",
    "    except KeyError:\n",
    "        return '<ошибка во время перевода>'"
   ]
  },
  {
   "cell_type": "code",
   "execution_count": 21,
   "metadata": {},
   "outputs": [],
   "source": [
    "class Movie:\n",
    "    def __init__(self, poster_url, title, year, rating, description=''):\n",
    "        self.poster_url = poster_url\n",
    "        self.title = title\n",
    "        self.year = year\n",
    "        self.rating = rating\n",
    "        self.description = description\n",
    "    \n",
    "    @classmethod\n",
    "    def from_li_str(cls, li_str):\n",
    "        soup = BeautifulSoup(li_str, 'lxml')\n",
    "        poster_url = soup.find('img')['src']\n",
    "        title_full = soup.find('h3', class_='ipc-title__text').text.strip()\n",
    "        title = re.sub(r'^\\d+\\.\\s*', '', title_full)\n",
    "        year = soup.find('span', class_='cli-title-metadata-item').text.strip()[:4]\n",
    "        rating = soup.find('span', class_='ipc-rating-star--imdb').text.strip()[:3]\n",
    "        descr_url = fr'https://www.imdb.com/{soup.find(\"a\", class_=\"ipc-title-link-wrapper\").get(\"href\")}'\n",
    "        description = get_description(descr_url)\n",
    "        return cls(poster_url, title, year, rating, description)\n",
    "\n",
    "    def get_dict(self):\n",
    "        return {'poster': self.poster_url, \n",
    "                'title': self.title, \n",
    "                'year': self.year, \n",
    "                'rating': self.rating, \n",
    "                'description': self.description}\n",
    "    \n",
    "    def display_movie(self):\n",
    "        html = f\"\"\"\n",
    "        <div style=\"display: flex; flex-direction: column;\">\n",
    "            <div style=\"display: flex; flex-direction: row;\">\n",
    "                <div style=\"margin-right: 20px;\">\n",
    "                    <img src=\"{self.poster_url}\" alt=\"{self.title}\">\n",
    "                </div>\n",
    "                <div style=\"text-align: center;\">\n",
    "                    <h3>{self.title}</h3>\n",
    "                    <p>Год: <strong>{self.year}</strong></p>\n",
    "                    <p>Оценка IMDb: <strong>{self.rating}</strong></p>\n",
    "                </div>\n",
    "            </div>\n",
    "            <div style=\"text-align: justify;\">\n",
    "                <h4>Краткое описание</h4>\n",
    "                <p>{self.description}</p>\n",
    "                <p>{deep_translate(self.description)}</p>\n",
    "            </div>\n",
    "        </div>\n",
    "        \"\"\"\n",
    "        display(HTML(html))"
   ]
  },
  {
   "cell_type": "code",
   "execution_count": 22,
   "metadata": {},
   "outputs": [],
   "source": [
    "url = 'https://www.imdb.com/chart/top/'"
   ]
  },
  {
   "cell_type": "code",
   "execution_count": 23,
   "metadata": {},
   "outputs": [],
   "source": [
    "response = session.get(url, headers=headers)\n",
    "response.raise_for_status()"
   ]
  },
  {
   "cell_type": "code",
   "execution_count": 24,
   "metadata": {},
   "outputs": [],
   "source": [
    "soup = BeautifulSoup(response.text, 'lxml')\n",
    "movies_html = soup.find('ul', role='presentation')"
   ]
  },
  {
   "cell_type": "code",
   "execution_count": 25,
   "metadata": {},
   "outputs": [
    {
     "data": {
      "application/vnd.jupyter.widget-view+json": {
       "model_id": "8c8f6bb3fca14cfc96be5087bc3dc2a2",
       "version_major": 2,
       "version_minor": 0
      },
      "text/plain": [
       "VBox(children=(  0%|          | 0/25 [00:00<?, ?флм/s],))"
      ]
     },
     "metadata": {},
     "output_type": "display_data"
    }
   ],
   "source": [
    "movies = []\n",
    "pbar = tqdm(movies_html.find_all('li'), unit='флм', dynamic_ncols=True)\n",
    "for movie_html in pbar:\n",
    "    movie_obj = Movie.from_li_str(str(movie_html))\n",
    "    movies.append(movie_obj)"
   ]
  },
  {
   "cell_type": "code",
   "execution_count": 26,
   "metadata": {},
   "outputs": [
    {
     "data": {
      "text/html": [
       "\n",
       "        <div style=\"display: flex; flex-direction: column;\">\n",
       "            <div style=\"display: flex; flex-direction: row;\">\n",
       "                <div style=\"margin-right: 20px;\">\n",
       "                    <img src=\"https://m.media-amazon.com/images/M/MV5BN2E5NzI2ZGMtY2VjNi00YTRjLWI1MDUtZGY5OWU1MWJjZjRjXkEyXkFqcGc@._V1_QL75_UX140_CR0,1,140,207_.jpg\" alt=\"Славные парни\">\n",
       "                </div>\n",
       "                <div style=\"text-align: center;\">\n",
       "                    <h3>Славные парни</h3>\n",
       "                    <p>Год: <strong>1990</strong></p>\n",
       "                    <p>Оценка IMDb: <strong>8.7</strong></p>\n",
       "                </div>\n",
       "            </div>\n",
       "            <div style=\"text-align: justify;\">\n",
       "                <h4>Краткое описание</h4>\n",
       "                <p>The story of Henry Hill and his life in the mafia, covering his relationship with his wife Karen and his mob partners Jimmy Conway and Tommy DeVito.</p>\n",
       "                <p>История Генри Хилла и его жизни в мафии, освещающая его отношения с женой Карен и партнерами по мафии Джимми Конвеем и Томми ДеВито.</p>\n",
       "            </div>\n",
       "        </div>\n",
       "        "
      ],
      "text/plain": [
       "<IPython.core.display.HTML object>"
      ]
     },
     "metadata": {},
     "output_type": "display_data"
    },
    {
     "data": {
      "text/html": [
       "\n",
       "        <div style=\"display: flex; flex-direction: column;\">\n",
       "            <div style=\"display: flex; flex-direction: row;\">\n",
       "                <div style=\"margin-right: 20px;\">\n",
       "                    <img src=\"https://m.media-amazon.com/images/M/MV5BYzdjMDAxZGItMjI2My00ODA1LTlkNzItOWFjMDU5ZDJlYWY3XkEyXkFqcGc@._V1_QL75_UX140_CR0,0,140,207_.jpg\" alt=\"Интерстеллар\">\n",
       "                </div>\n",
       "                <div style=\"text-align: center;\">\n",
       "                    <h3>Интерстеллар</h3>\n",
       "                    <p>Год: <strong>2014</strong></p>\n",
       "                    <p>Оценка IMDb: <strong>8.7</strong></p>\n",
       "                </div>\n",
       "            </div>\n",
       "            <div style=\"text-align: justify;\">\n",
       "                <h4>Краткое описание</h4>\n",
       "                <p>When Earth becomes uninhabitable in the future, a farmer and ex-NASA pilot, Joseph Cooper, is tasked to pilot a spacecraft, along with a team of researchers, to find a new planet for humans.</p>\n",
       "                <p>Когда в будущем Земля станет непригодной для жизни, фермеру и бывшему пилоту НАСА Джозефу Куперу предстоит пилотировать космический корабль вместе с командой исследователей, чтобы найти новую планету для людей.</p>\n",
       "            </div>\n",
       "        </div>\n",
       "        "
      ],
      "text/plain": [
       "<IPython.core.display.HTML object>"
      ]
     },
     "metadata": {},
     "output_type": "display_data"
    },
    {
     "data": {
      "text/html": [
       "\n",
       "        <div style=\"display: flex; flex-direction: column;\">\n",
       "            <div style=\"display: flex; flex-direction: row;\">\n",
       "                <div style=\"margin-right: 20px;\">\n",
       "                    <img src=\"https://m.media-amazon.com/images/M/MV5BY2IzNzMxZjctZjUxZi00YzAxLTk3ZjMtODFjODdhMDU5NDM1XkEyXkFqcGc@._V1_QL75_UX140_CR0,6,140,207_.jpg\" alt=\"Семь\">\n",
       "                </div>\n",
       "                <div style=\"text-align: center;\">\n",
       "                    <h3>Семь</h3>\n",
       "                    <p>Год: <strong>1995</strong></p>\n",
       "                    <p>Оценка IMDb: <strong>8.6</strong></p>\n",
       "                </div>\n",
       "            </div>\n",
       "            <div style=\"text-align: justify;\">\n",
       "                <h4>Краткое описание</h4>\n",
       "                <p>Two detectives, a rookie and a veteran, hunt a serial killer who uses the seven deadly sins as his motives.</p>\n",
       "                <p>Два детектива, новичок и ветеран, выслеживают серийного убийцу, который использует семь смертных грехов в качестве своих мотивов.</p>\n",
       "            </div>\n",
       "        </div>\n",
       "        "
      ],
      "text/plain": [
       "<IPython.core.display.HTML object>"
      ]
     },
     "metadata": {},
     "output_type": "display_data"
    },
    {
     "data": {
      "text/html": [
       "\n",
       "        <div style=\"display: flex; flex-direction: column;\">\n",
       "            <div style=\"display: flex; flex-direction: row;\">\n",
       "                <div style=\"margin-right: 20px;\">\n",
       "                    <img src=\"https://m.media-amazon.com/images/M/MV5BNzIxMDQ2YTctNDY4MC00ZTRhLTk4ODQtMTVlOWY4NTdiYmMwXkEyXkFqcGc@._V1_QL75_UX140_CR0,0,140,207_.jpg\" alt=\"Властелин колец: Братство кольца\">\n",
       "                </div>\n",
       "                <div style=\"text-align: center;\">\n",
       "                    <h3>Властелин колец: Братство кольца</h3>\n",
       "                    <p>Год: <strong>2001</strong></p>\n",
       "                    <p>Оценка IMDb: <strong>8.9</strong></p>\n",
       "                </div>\n",
       "            </div>\n",
       "            <div style=\"text-align: justify;\">\n",
       "                <h4>Краткое описание</h4>\n",
       "                <p>A meek Hobbit from the Shire and eight companions set out on a journey to destroy the powerful One Ring and save Middle-earth from the Dark Lord Sauron.</p>\n",
       "                <p>Кроткий хоббит из Шира и восемь его спутников отправляются в путешествие, чтобы уничтожить могущественное Единое Кольцо и спасти Средиземье от Темного Лорда Саурона.</p>\n",
       "            </div>\n",
       "        </div>\n",
       "        "
      ],
      "text/plain": [
       "<IPython.core.display.HTML object>"
      ]
     },
     "metadata": {},
     "output_type": "display_data"
    },
    {
     "data": {
      "text/html": [
       "\n",
       "        <div style=\"display: flex; flex-direction: column;\">\n",
       "            <div style=\"display: flex; flex-direction: row;\">\n",
       "                <div style=\"margin-right: 20px;\">\n",
       "                    <img src=\"https://m.media-amazon.com/images/M/MV5BMjAxMzY3NjcxNF5BMl5BanBnXkFtZTcwNTI5OTM0Mw@@._V1_QL75_UX140_CR0,0,140,207_.jpg\" alt=\"Начало\">\n",
       "                </div>\n",
       "                <div style=\"text-align: center;\">\n",
       "                    <h3>Начало</h3>\n",
       "                    <p>Год: <strong>2010</strong></p>\n",
       "                    <p>Оценка IMDb: <strong>8.8</strong></p>\n",
       "                </div>\n",
       "            </div>\n",
       "            <div style=\"text-align: justify;\">\n",
       "                <h4>Краткое описание</h4>\n",
       "                <p>A thief who steals corporate secrets through the use of dream-sharing technology is given the inverse task of planting an idea into the mind of a C.E.O., but his tragic past may doom the project and his team to disaster.</p>\n",
       "                <p>Вору, который крадет корпоративные секреты с помощью технологии обмена мечтами, предстоит обратная задача: внедрить идею в сознание генерального директора, но его трагическое прошлое может обречь проект и его команду на катастрофу.</p>\n",
       "            </div>\n",
       "        </div>\n",
       "        "
      ],
      "text/plain": [
       "<IPython.core.display.HTML object>"
      ]
     },
     "metadata": {},
     "output_type": "display_data"
    },
    {
     "data": {
      "text/html": [
       "\n",
       "        <div style=\"display: flex; flex-direction: column;\">\n",
       "            <div style=\"display: flex; flex-direction: row;\">\n",
       "                <div style=\"margin-right: 20px;\">\n",
       "                    <img src=\"https://m.media-amazon.com/images/M/MV5BMDAyY2FhYjctNDc5OS00MDNlLThiMGUtY2UxYWVkNGY2ZjljXkEyXkFqcGc@._V1_QL75_UX140_CR0,1,140,207_.jpg\" alt=\"Побег из Шоушенка\">\n",
       "                </div>\n",
       "                <div style=\"text-align: center;\">\n",
       "                    <h3>Побег из Шоушенка</h3>\n",
       "                    <p>Год: <strong>1994</strong></p>\n",
       "                    <p>Оценка IMDb: <strong>9.3</strong></p>\n",
       "                </div>\n",
       "            </div>\n",
       "            <div style=\"text-align: justify;\">\n",
       "                <h4>Краткое описание</h4>\n",
       "                <p>A banker convicted of uxoricide forms a friendship over a quarter century with a hardened convict, while maintaining his innocence and trying to remain hopeful through simple compassion.</p>\n",
       "                <p>Банкир, осужденный за уксорицид, более четверти века дружит с закоренелым каторжником, сохраняя при этом свою невиновность и пытаясь сохранять надежду посредством простого сострадания.</p>\n",
       "            </div>\n",
       "        </div>\n",
       "        "
      ],
      "text/plain": [
       "<IPython.core.display.HTML object>"
      ]
     },
     "metadata": {},
     "output_type": "display_data"
    },
    {
     "data": {
      "text/html": [
       "\n",
       "        <div style=\"display: flex; flex-direction: column;\">\n",
       "            <div style=\"display: flex; flex-direction: row;\">\n",
       "                <div style=\"margin-right: 20px;\">\n",
       "                    <img src=\"https://m.media-amazon.com/images/M/MV5BNDdhOGJhYzctYzYwZC00YmI2LWI0MjctYjg4ODdlMDExYjBlXkEyXkFqcGc@._V1_QL75_UY207_CR0,0,140,207_.jpg\" alt=\"Молчание ягнят\">\n",
       "                </div>\n",
       "                <div style=\"text-align: center;\">\n",
       "                    <h3>Молчание ягнят</h3>\n",
       "                    <p>Год: <strong>1991</strong></p>\n",
       "                    <p>Оценка IMDb: <strong>8.6</strong></p>\n",
       "                </div>\n",
       "            </div>\n",
       "            <div style=\"text-align: justify;\">\n",
       "                <h4>Краткое описание</h4>\n",
       "                <p>A young F.B.I. cadet must receive the help of an incarcerated and manipulative cannibal killer to help catch another serial killer, a madman who skins his victims.</p>\n",
       "                <p>Молодой Ф.Б.И. Курсант должен получить помощь заключенного в тюрьму и манипулирующего убийцы-каннибала, чтобы помочь поймать другого серийного убийцу, сумасшедшего, который сдирает шкуру со своих жертв.</p>\n",
       "            </div>\n",
       "        </div>\n",
       "        "
      ],
      "text/plain": [
       "<IPython.core.display.HTML object>"
      ]
     },
     "metadata": {},
     "output_type": "display_data"
    },
    {
     "data": {
      "text/html": [
       "\n",
       "        <div style=\"display: flex; flex-direction: column;\">\n",
       "            <div style=\"display: flex; flex-direction: row;\">\n",
       "                <div style=\"margin-right: 20px;\">\n",
       "                    <img src=\"https://m.media-amazon.com/images/M/MV5BYjBkMjgzMzYtNzRiMS00NDc3LWE4YTUtZjYxYjZhNjNhYzhhXkEyXkFqcGc@._V1_QL75_UX140_CR0,0,140,207_.jpg\" alt=\"Пролетая над гнездом кукушки\">\n",
       "                </div>\n",
       "                <div style=\"text-align: center;\">\n",
       "                    <h3>Пролетая над гнездом кукушки</h3>\n",
       "                    <p>Год: <strong>1975</strong></p>\n",
       "                    <p>Оценка IMDb: <strong>8.7</strong></p>\n",
       "                </div>\n",
       "            </div>\n",
       "            <div style=\"text-align: justify;\">\n",
       "                <h4>Краткое описание</h4>\n",
       "                <p>In the Fall of 1963, a Korean War veteran and criminal pleads insanity and is admitted to a mental institution, where he rallies up the scared patients against the tyrannical nurse.</p>\n",
       "                <p>Осенью 1963 года ветеран Корейской войны и преступник признается невменяемым и попадает в психиатрическую больницу, где сплачивает напуганных пациентов против тиранической медсестры.</p>\n",
       "            </div>\n",
       "        </div>\n",
       "        "
      ],
      "text/plain": [
       "<IPython.core.display.HTML object>"
      ]
     },
     "metadata": {},
     "output_type": "display_data"
    },
    {
     "data": {
      "text/html": [
       "\n",
       "        <div style=\"display: flex; flex-direction: column;\">\n",
       "            <div style=\"display: flex; flex-direction: row;\">\n",
       "                <div style=\"margin-right: 20px;\">\n",
       "                    <img src=\"https://m.media-amazon.com/images/M/MV5BN2NmN2VhMTQtMDNiOS00NDlhLTliMjgtODE2ZTY0ODQyNDRhXkEyXkFqcGc@._V1_QL75_UX140_CR0,1,140,207_.jpg\" alt=\"Матрица\">\n",
       "                </div>\n",
       "                <div style=\"text-align: center;\">\n",
       "                    <h3>Матрица</h3>\n",
       "                    <p>Год: <strong>1999</strong></p>\n",
       "                    <p>Оценка IMDb: <strong>8.7</strong></p>\n",
       "                </div>\n",
       "            </div>\n",
       "            <div style=\"text-align: justify;\">\n",
       "                <h4>Краткое описание</h4>\n",
       "                <p>When a beautiful stranger leads computer hacker Neo to a forbidding underworld, he discovers the shocking truth--the life he knows is the elaborate deception of an evil cyber-intelligence.</p>\n",
       "                <p>Когда красивая незнакомка ведет компьютерного хакера Нео в неприступный преступный мир, он открывает шокирующую правду: жизнь, которую он знает, является тщательно продуманным обманом злого киберразведки.</p>\n",
       "            </div>\n",
       "        </div>\n",
       "        "
      ],
      "text/plain": [
       "<IPython.core.display.HTML object>"
      ]
     },
     "metadata": {},
     "output_type": "display_data"
    },
    {
     "data": {
      "text/html": [
       "\n",
       "        <div style=\"display: flex; flex-direction: column;\">\n",
       "            <div style=\"display: flex; flex-direction: row;\">\n",
       "                <div style=\"margin-right: 20px;\">\n",
       "                    <img src=\"https://m.media-amazon.com/images/M/MV5BZGZhZGQ1ZWUtZTZjYS00MDJhLWFkYjctN2ZlYjE5NWYwZDM2XkEyXkFqcGc@._V1_QL75_UY207_CR1,0,140,207_.jpg\" alt=\"Спасти рядового Райана\">\n",
       "                </div>\n",
       "                <div style=\"text-align: center;\">\n",
       "                    <h3>Спасти рядового Райана</h3>\n",
       "                    <p>Год: <strong>1998</strong></p>\n",
       "                    <p>Оценка IMDb: <strong>8.6</strong></p>\n",
       "                </div>\n",
       "            </div>\n",
       "            <div style=\"text-align: justify;\">\n",
       "                <h4>Краткое описание</h4>\n",
       "                <p>Following the Normandy Landings, a group of U.S. soldiers go behind enemy lines to retrieve a paratrooper whose brothers have been killed in action.</p>\n",
       "                <p>После высадки в Нормандии группа американских солдат отправляется в тыл врага, чтобы спасти десантника, чьи братья погибли в бою.</p>\n",
       "            </div>\n",
       "        </div>\n",
       "        "
      ],
      "text/plain": [
       "<IPython.core.display.HTML object>"
      ]
     },
     "metadata": {},
     "output_type": "display_data"
    }
   ],
   "source": [
    "random_movies = random.sample(movies, 10)\n",
    "for movie in random_movies:\n",
    "    movie.display_movie()"
   ]
  }
 ],
 "metadata": {
  "kernelspec": {
   "display_name": "Python 3",
   "language": "python",
   "name": "python3"
  },
  "language_info": {
   "codemirror_mode": {
    "name": "ipython",
    "version": 3
   },
   "file_extension": ".py",
   "mimetype": "text/x-python",
   "name": "python",
   "nbconvert_exporter": "python",
   "pygments_lexer": "ipython3",
   "version": "3.12.3"
  }
 },
 "nbformat": 4,
 "nbformat_minor": 2
}
