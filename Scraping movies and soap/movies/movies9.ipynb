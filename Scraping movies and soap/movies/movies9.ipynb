{
 "cells": [
  {
   "cell_type": "markdown",
   "metadata": {},
   "source": [
    "9. Суммируя весь предыдущий опыт напишите программу, которая будет скрейпить данные из imdb. Рекомендуемые библиотеки: BeautifulSoup, requests и random. Программа должна выполнять следующий функционал:\n",
    "\n",
    "    a. При запуске программа должна подключаться к странице https://www.imdb.com/chart/top\n",
    "\n",
    "    b. Собирать список фильмов (и по вашему желанию их описание)\n",
    "\n",
    "    c. Выводить 10 случайных фильмов"
   ]
  },
  {
   "cell_type": "markdown",
   "metadata": {},
   "source": [
    "Работает только на первые 25 фильмов из-за ленивой подгрузки. Для возможност парсить все 250 фильмов была идея использовать Selenium, однако не имею в нём большого опыта"
   ]
  },
  {
   "cell_type": "code",
   "execution_count": 1,
   "metadata": {},
   "outputs": [
    {
     "name": "stdout",
     "output_type": "stream",
     "text": [
      "Requirement already satisfied: requests in c:\\users\\ntikh\\appdata\\local\\programs\\python\\python312\\lib\\site-packages (from -r requirements.txt (line 1)) (2.32.3)\n",
      "Requirement already satisfied: bs4 in c:\\users\\ntikh\\appdata\\local\\programs\\python\\python312\\lib\\site-packages (from -r requirements.txt (line 2)) (0.0.2)\n",
      "Requirement already satisfied: lxml in c:\\users\\ntikh\\appdata\\local\\programs\\python\\python312\\lib\\site-packages (from -r requirements.txt (line 3)) (5.3.0)\n",
      "Requirement already satisfied: tqdm in c:\\users\\ntikh\\appdata\\local\\programs\\python\\python312\\lib\\site-packages (from -r requirements.txt (line 4)) (4.66.4)\n",
      "Requirement already satisfied: charset-normalizer<4,>=2 in c:\\users\\ntikh\\appdata\\local\\programs\\python\\python312\\lib\\site-packages (from requests->-r requirements.txt (line 1)) (3.3.2)\n",
      "Requirement already satisfied: idna<4,>=2.5 in c:\\users\\ntikh\\appdata\\local\\programs\\python\\python312\\lib\\site-packages (from requests->-r requirements.txt (line 1)) (3.7)\n",
      "Requirement already satisfied: urllib3<3,>=1.21.1 in c:\\users\\ntikh\\appdata\\local\\programs\\python\\python312\\lib\\site-packages (from requests->-r requirements.txt (line 1)) (2.2.1)\n",
      "Requirement already satisfied: certifi>=2017.4.17 in c:\\users\\ntikh\\appdata\\local\\programs\\python\\python312\\lib\\site-packages (from requests->-r requirements.txt (line 1)) (2024.2.2)\n",
      "Requirement already satisfied: beautifulsoup4 in c:\\users\\ntikh\\appdata\\local\\programs\\python\\python312\\lib\\site-packages (from bs4->-r requirements.txt (line 2)) (4.12.3)\n",
      "Requirement already satisfied: colorama in c:\\users\\ntikh\\appdata\\local\\programs\\python\\python312\\lib\\site-packages (from tqdm->-r requirements.txt (line 4)) (0.4.6)\n",
      "Requirement already satisfied: soupsieve>1.2 in c:\\users\\ntikh\\appdata\\local\\programs\\python\\python312\\lib\\site-packages (from beautifulsoup4->bs4->-r requirements.txt (line 2)) (2.5)\n",
      "Note: you may need to restart the kernel to use updated packages.\n",
      "Requirement already satisfied: python-dotenv in c:\\users\\ntikh\\appdata\\local\\programs\\python\\python312\\lib\\site-packages (1.0.1)\n",
      "Note: you may need to restart the kernel to use updated packages.\n"
     ]
    }
   ],
   "source": [
    "%pip install -r requirements.txt\n",
    "%pip install python-dotenv\n",
    "# python-dotenv нужен для безопасного хранения API ключа"
   ]
  },
  {
   "cell_type": "code",
   "execution_count": 2,
   "metadata": {},
   "outputs": [
    {
     "name": "stderr",
     "output_type": "stream",
     "text": [
      "C:\\Users\\ntikh\\AppData\\Local\\Temp\\ipykernel_17892\\2920163902.py:8: TqdmExperimentalWarning: Using `tqdm.autonotebook.tqdm` in notebook mode. Use `tqdm.tqdm` instead to force console mode (e.g. in jupyter console)\n",
      "  from tqdm.autonotebook import tqdm\n"
     ]
    }
   ],
   "source": [
    "import requests\n",
    "from bs4 import BeautifulSoup\n",
    "import random\n",
    "from IPython.display import HTML, display\n",
    "import re\n",
    "import os\n",
    "from dotenv import load_dotenv\n",
    "from tqdm.autonotebook import tqdm"
   ]
  },
  {
   "cell_type": "code",
   "execution_count": 3,
   "metadata": {},
   "outputs": [],
   "source": [
    "load_dotenv()\n",
    "RAPIDAPI_KEY = os.getenv('RAPIDAPI_KEY')"
   ]
  },
  {
   "cell_type": "code",
   "execution_count": 4,
   "metadata": {},
   "outputs": [],
   "source": [
    "headers = {\n",
    "    'User-Agent': 'Mozilla/5.0 (Windows NT 10.0; Win64; x64) AppleWebKit/537.36 (KHTML, like Gecko) Chrome/58.0.3029.110 Safari/537.3'\n",
    "}\n",
    "session = requests.session()"
   ]
  },
  {
   "cell_type": "code",
   "execution_count": 5,
   "metadata": {},
   "outputs": [],
   "source": [
    "def get_discription(url):\n",
    "    html = session.get(url, headers=headers).text\n",
    "    soup = BeautifulSoup(html, 'lxml')\n",
    "    span = soup.find('span', {'data-testid': 'plot-xl', 'role': 'presentation'})\n",
    "    if span:\n",
    "        return span.text.strip()\n",
    "    else:\n",
    "        return \"No description found\""
   ]
  },
  {
   "cell_type": "code",
   "execution_count": 6,
   "metadata": {},
   "outputs": [],
   "source": [
    "def deep_translate(text):\n",
    "    if not RAPIDAPI_KEY:\n",
    "        return ''\n",
    "    url = 'https://deep-translate1.p.rapidapi.com/language/translate/v2'\n",
    "    payload = {\n",
    "        'q': text,\n",
    "        'source': 'en',\n",
    "        'target': 'ru'\n",
    "    }\n",
    "   \n",
    "    headers = {\n",
    "        'content-type': 'application/json',\n",
    "        'X-RapidAPI-Key': RAPIDAPI_KEY,\n",
    "        'X-RapidAPI-Host': 'deep-translate1.p.rapidapi.com'\n",
    "    }\n",
    "    try:\n",
    "        return requests.post(url, json=payload, headers=headers).json()['data']['translations']['translatedText']\n",
    "    except KeyError:\n",
    "        return '<ошибка во время перевода>'"
   ]
  },
  {
   "cell_type": "code",
   "execution_count": 7,
   "metadata": {},
   "outputs": [],
   "source": [
    "class Movie:\n",
    "    def __init__(self, poster_url, title, year, rating, description=''):\n",
    "        self.poster_url = poster_url\n",
    "        self.title = title\n",
    "        self.year = year\n",
    "        self.rating = rating\n",
    "        self.description = description\n",
    "    \n",
    "    @classmethod\n",
    "    def from_li_str(cls, li_str):\n",
    "        soup = BeautifulSoup(li_str, 'lxml')\n",
    "        poster_url = soup.find('img')['src']\n",
    "        title_full = soup.find('h3', class_='ipc-title__text').text.strip()\n",
    "        title = re.sub(r'^\\d+\\.\\s*', '', title_full)\n",
    "        year = soup.find('span', class_='cli-title-metadata-item').text.strip()[:4]\n",
    "        rating = soup.find('span', class_='ipc-rating-star--imdb').text.strip()[:3]\n",
    "        discr_url = fr'https://www.imdb.com/{soup.find('a', class_='ipc-title-link-wrapper').get('href')}'\n",
    "        discription = get_discription(discr_url)\n",
    "        return cls(poster_url, title, year, rating, discription)\n",
    "\n",
    "    def get_dict(self):\n",
    "        return {'poster': self.poster_url, \n",
    "                'title': self.title, \n",
    "                'year': self.year, \n",
    "                'rating': self.rating, \n",
    "                'description': self.description}\n",
    "    \n",
    "    def display_movie(self):\n",
    "        html = f\"\"\"\n",
    "        <div style=\"display: flex; flex-direction: column;\">\n",
    "            <div style=\"display: flex; flex-direction: row;\">\n",
    "                <div style=\"margin-right: 20px;\">\n",
    "                    <img src=\"{self.poster_url}\" alt=\"{self.title}\">\n",
    "                </div>\n",
    "                <div style=\"text-align: center;\">\n",
    "                    <h3>{self.title}</h3>\n",
    "                    <p>Год: <strong>{self.year}</strong></p>\n",
    "                    <p>Оценка IMDb: <strong>{self.rating}</strong></p>\n",
    "                </div>\n",
    "            </div>\n",
    "            <div style=\"text-align: justify;\">\n",
    "                <h4>Краткое описание</h4>\n",
    "                <p>{self.description}</p>\n",
    "                <p>{deep_translate(self.description)}</p>\n",
    "            </div>\n",
    "        </div>\n",
    "        \"\"\"\n",
    "        display(HTML(html))"
   ]
  },
  {
   "cell_type": "code",
   "execution_count": 8,
   "metadata": {},
   "outputs": [],
   "source": [
    "url = 'https://www.imdb.com/chart/top/'"
   ]
  },
  {
   "cell_type": "code",
   "execution_count": 9,
   "metadata": {},
   "outputs": [],
   "source": [
    "response = session.get(url, headers=headers)\n",
    "response.raise_for_status()"
   ]
  },
  {
   "cell_type": "code",
   "execution_count": 10,
   "metadata": {},
   "outputs": [],
   "source": [
    "soup = BeautifulSoup(response.text, 'lxml')\n",
    "movies_html = soup.find('ul', role='presentation')"
   ]
  },
  {
   "cell_type": "code",
   "execution_count": 16,
   "metadata": {},
   "outputs": [
    {
     "data": {
      "application/vnd.jupyter.widget-view+json": {
       "model_id": "24d8b82d1c5645a8b47724e943717a09",
       "version_major": 2,
       "version_minor": 0
      },
      "text/plain": [
       "VBox(children=(  0%|          | 0/25 [00:00<?, ?it/s],))"
      ]
     },
     "metadata": {},
     "output_type": "display_data"
    }
   ],
   "source": [
    "movies = []\n",
    "for movie_html in tqdm(movies_html.find_all('li'), dynamic_ncols=True):\n",
    "    movies.append(Movie.from_li_str(str(movie_html)))"
   ]
  },
  {
   "cell_type": "code",
   "execution_count": 17,
   "metadata": {},
   "outputs": [
    {
     "data": {
      "text/html": [
       "\n",
       "        <div style=\"display: flex; flex-direction: column;\">\n",
       "            <div style=\"display: flex; flex-direction: row;\">\n",
       "                <div style=\"margin-right: 20px;\">\n",
       "                    <img src=\"https://m.media-amazon.com/images/M/MV5BMTZkMjBjNWMtZGI5OC00MGU0LTk4ZTItODg2NWM3NTVmNWQ4XkEyXkFqcGc@._V1_QL75_UX140_CR0,0,140,207_.jpg\" alt=\"Властелин колец: Возвращение короля\">\n",
       "                </div>\n",
       "                <div style=\"text-align: center;\">\n",
       "                    <h3>Властелин колец: Возвращение короля</h3>\n",
       "                    <p>Год: <strong>2003</strong></p>\n",
       "                    <p>Оценка IMDb: <strong>9.0</strong></p>\n",
       "                </div>\n",
       "            </div>\n",
       "            <div style=\"text-align: justify;\">\n",
       "                <h4>Краткое описание</h4>\n",
       "                <p>Gandalf and Aragorn lead the World of Men against Sauron's army to draw his gaze from Frodo and Sam as they approach Mount Doom with the One Ring.</p>\n",
       "                <p>Гэндальф и Арагорн ведут Мир Людей против армии Саурона, чтобы отвлечь его взгляд от Фродо и Сэма, когда они приближаются к Роковой горе с Единым Кольцом.</p>\n",
       "            </div>\n",
       "        </div>\n",
       "        "
      ],
      "text/plain": [
       "<IPython.core.display.HTML object>"
      ]
     },
     "metadata": {},
     "output_type": "display_data"
    },
    {
     "data": {
      "text/html": [
       "\n",
       "        <div style=\"display: flex; flex-direction: column;\">\n",
       "            <div style=\"display: flex; flex-direction: row;\">\n",
       "                <div style=\"margin-right: 20px;\">\n",
       "                    <img src=\"https://m.media-amazon.com/images/M/MV5BYjE4NzdmOTYtYjc5Yi00YzBiLWEzNDEtNTgxZGQ2MWVkN2NiXkEyXkFqcGc@._V1_QL75_UX140_CR0,4,140,207_.jpg\" alt=\"12 рaзгневанных мужчин\">\n",
       "                </div>\n",
       "                <div style=\"text-align: center;\">\n",
       "                    <h3>12 рaзгневанных мужчин</h3>\n",
       "                    <p>Год: <strong>1957</strong></p>\n",
       "                    <p>Оценка IMDb: <strong>9.0</strong></p>\n",
       "                </div>\n",
       "            </div>\n",
       "            <div style=\"text-align: justify;\">\n",
       "                <h4>Краткое описание</h4>\n",
       "                <p>The jury in a New York City murder trial is frustrated by a single member whose skeptical caution forces them to more carefully consider the evidence before jumping to a hasty verdict.</p>\n",
       "                <p>Присяжные по делу об убийстве в Нью-Йорке разочарованы одним членом, чья скептическая осторожность заставляет их более тщательно рассматривать доказательства, прежде чем выносить поспешный вердикт.</p>\n",
       "            </div>\n",
       "        </div>\n",
       "        "
      ],
      "text/plain": [
       "<IPython.core.display.HTML object>"
      ]
     },
     "metadata": {},
     "output_type": "display_data"
    },
    {
     "data": {
      "text/html": [
       "\n",
       "        <div style=\"display: flex; flex-direction: column;\">\n",
       "            <div style=\"display: flex; flex-direction: row;\">\n",
       "                <div style=\"margin-right: 20px;\">\n",
       "                    <img src=\"https://m.media-amazon.com/images/M/MV5BMGQxMDdiOWUtYjc1Ni00YzM1LWE2NjMtZTg3Y2JkMjEzMTJjXkEyXkFqcGc@._V1_QL75_UX140_CR0,5,140,207_.jpg\" alt=\"Властелин колец: Две крепости\">\n",
       "                </div>\n",
       "                <div style=\"text-align: center;\">\n",
       "                    <h3>Властелин колец: Две крепости</h3>\n",
       "                    <p>Год: <strong>2002</strong></p>\n",
       "                    <p>Оценка IMDb: <strong>8.8</strong></p>\n",
       "                </div>\n",
       "            </div>\n",
       "            <div style=\"text-align: justify;\">\n",
       "                <h4>Краткое описание</h4>\n",
       "                <p>While Frodo and Sam edge closer to Mordor with the help of the shifty Gollum, the divided fellowship makes a stand against Sauron's new ally, Saruman, and his hordes of Isengard.</p>\n",
       "                <p>В то время как Фродо и Сэм приближаются к Мордору с помощью хитрого Голлума, разделенное братство противостоит новому союзнику Саурона, Саруману, и его ордам Изенгарда.</p>\n",
       "            </div>\n",
       "        </div>\n",
       "        "
      ],
      "text/plain": [
       "<IPython.core.display.HTML object>"
      ]
     },
     "metadata": {},
     "output_type": "display_data"
    },
    {
     "data": {
      "text/html": [
       "\n",
       "        <div style=\"display: flex; flex-direction: column;\">\n",
       "            <div style=\"display: flex; flex-direction: row;\">\n",
       "                <div style=\"margin-right: 20px;\">\n",
       "                    <img src=\"https://m.media-amazon.com/images/M/MV5BNzIxMDQ2YTctNDY4MC00ZTRhLTk4ODQtMTVlOWY4NTdiYmMwXkEyXkFqcGc@._V1_QL75_UX140_CR0,0,140,207_.jpg\" alt=\"Властелин колец: Братство кольца\">\n",
       "                </div>\n",
       "                <div style=\"text-align: center;\">\n",
       "                    <h3>Властелин колец: Братство кольца</h3>\n",
       "                    <p>Год: <strong>2001</strong></p>\n",
       "                    <p>Оценка IMDb: <strong>8.9</strong></p>\n",
       "                </div>\n",
       "            </div>\n",
       "            <div style=\"text-align: justify;\">\n",
       "                <h4>Краткое описание</h4>\n",
       "                <p>A meek Hobbit from the Shire and eight companions set out on a journey to destroy the powerful One Ring and save Middle-earth from the Dark Lord Sauron.</p>\n",
       "                <p>Кроткий хоббит из Шира и восемь его спутников отправляются в путешествие, чтобы уничтожить могущественное Единое Кольцо и спасти Средиземье от Темного Лорда Саурона.</p>\n",
       "            </div>\n",
       "        </div>\n",
       "        "
      ],
      "text/plain": [
       "<IPython.core.display.HTML object>"
      ]
     },
     "metadata": {},
     "output_type": "display_data"
    },
    {
     "data": {
      "text/html": [
       "\n",
       "        <div style=\"display: flex; flex-direction: column;\">\n",
       "            <div style=\"display: flex; flex-direction: row;\">\n",
       "                <div style=\"margin-right: 20px;\">\n",
       "                    <img src=\"https://m.media-amazon.com/images/M/MV5BNjM1ZDQxYWUtMzQyZS00MTE1LWJmZGYtNGUyNTdlYjM3ZmVmXkEyXkFqcGc@._V1_QL75_UX140_CR0,1,140,207_.jpg\" alt=\"Список Шиндлера\">\n",
       "                </div>\n",
       "                <div style=\"text-align: center;\">\n",
       "                    <h3>Список Шиндлера</h3>\n",
       "                    <p>Год: <strong>1993</strong></p>\n",
       "                    <p>Оценка IMDb: <strong>9.0</strong></p>\n",
       "                </div>\n",
       "            </div>\n",
       "            <div style=\"text-align: justify;\">\n",
       "                <h4>Краткое описание</h4>\n",
       "                <p>In German-occupied Poland during World War II, industrialist Oskar Schindler gradually becomes concerned for his Jewish workforce after witnessing their persecution by the Nazis.</p>\n",
       "                <p>В оккупированной немцами Польше во время Второй мировой войны промышленник Оскар Шиндлер постепенно начинает беспокоиться о своей еврейской рабочей силе после того, как стал свидетелем их преследования со стороны нацистов.</p>\n",
       "            </div>\n",
       "        </div>\n",
       "        "
      ],
      "text/plain": [
       "<IPython.core.display.HTML object>"
      ]
     },
     "metadata": {},
     "output_type": "display_data"
    },
    {
     "data": {
      "text/html": [
       "\n",
       "        <div style=\"display: flex; flex-direction: column;\">\n",
       "            <div style=\"display: flex; flex-direction: row;\">\n",
       "                <div style=\"margin-right: 20px;\">\n",
       "                    <img src=\"https://m.media-amazon.com/images/M/MV5BMmM2ZWM0MTktMDZlZi00ZDg4LWI2MTEtNDc5NzRmZTg2OGMyXkEyXkFqcGc@._V1_QL75_UX140_CR0,1,140,207_.jpg\" alt=\"Семь самураев\">\n",
       "                </div>\n",
       "                <div style=\"text-align: center;\">\n",
       "                    <h3>Семь самураев</h3>\n",
       "                    <p>Год: <strong>1954</strong></p>\n",
       "                    <p>Оценка IMDb: <strong>8.6</strong></p>\n",
       "                </div>\n",
       "            </div>\n",
       "            <div style=\"text-align: justify;\">\n",
       "                <h4>Краткое описание</h4>\n",
       "                <p>Farmers from a village exploited by bandits hire a veteran samurai for protection, and he gathers six other samurai to join him.</p>\n",
       "                <p>Фермеры из деревни, эксплуатируемой бандитами, нанимают для защиты опытного самурая, и он собирает к себе шесть других самураев.</p>\n",
       "            </div>\n",
       "        </div>\n",
       "        "
      ],
      "text/plain": [
       "<IPython.core.display.HTML object>"
      ]
     },
     "metadata": {},
     "output_type": "display_data"
    },
    {
     "data": {
      "text/html": [
       "\n",
       "        <div style=\"display: flex; flex-direction: column;\">\n",
       "            <div style=\"display: flex; flex-direction: row;\">\n",
       "                <div style=\"margin-right: 20px;\">\n",
       "                    <img src=\"https://m.media-amazon.com/images/M/MV5BZGZhZGQ1ZWUtZTZjYS00MDJhLWFkYjctN2ZlYjE5NWYwZDM2XkEyXkFqcGc@._V1_QL75_UY207_CR1,0,140,207_.jpg\" alt=\"Спасти рядового Райана\">\n",
       "                </div>\n",
       "                <div style=\"text-align: center;\">\n",
       "                    <h3>Спасти рядового Райана</h3>\n",
       "                    <p>Год: <strong>1998</strong></p>\n",
       "                    <p>Оценка IMDb: <strong>8.6</strong></p>\n",
       "                </div>\n",
       "            </div>\n",
       "            <div style=\"text-align: justify;\">\n",
       "                <h4>Краткое описание</h4>\n",
       "                <p>Following the Normandy Landings, a group of U.S. soldiers go behind enemy lines to retrieve a paratrooper whose brothers have been killed in action.</p>\n",
       "                <p>После высадки в Нормандии группа американских солдат отправляется в тыл врага, чтобы спасти десантника, чьи братья погибли в бою.</p>\n",
       "            </div>\n",
       "        </div>\n",
       "        "
      ],
      "text/plain": [
       "<IPython.core.display.HTML object>"
      ]
     },
     "metadata": {},
     "output_type": "display_data"
    },
    {
     "data": {
      "text/html": [
       "\n",
       "        <div style=\"display: flex; flex-direction: column;\">\n",
       "            <div style=\"display: flex; flex-direction: row;\">\n",
       "                <div style=\"margin-right: 20px;\">\n",
       "                    <img src=\"https://m.media-amazon.com/images/M/MV5BODlkMWE1NzAtZTMzMS00MTk5LWE1ZDUtMmQxMGJiYzNkZDk4XkEyXkFqcGc@._V1_QL75_UX140_CR0,1,140,207_.jpg\" alt=\"Криминальное чтиво\">\n",
       "                </div>\n",
       "                <div style=\"text-align: center;\">\n",
       "                    <h3>Криминальное чтиво</h3>\n",
       "                    <p>Год: <strong>1994</strong></p>\n",
       "                    <p>Оценка IMDb: <strong>8.9</strong></p>\n",
       "                </div>\n",
       "            </div>\n",
       "            <div style=\"text-align: justify;\">\n",
       "                <h4>Краткое описание</h4>\n",
       "                <p>The lives of two mob hitmen, a boxer, a gangster and his wife, and a pair of diner bandits intertwine in four tales of violence and redemption.</p>\n",
       "                <p>Жизни двух наемных убийц, боксера, гангстера и его жены, а также пары бандитов из закусочной переплетаются в четырех историях о насилии и искуплении.</p>\n",
       "            </div>\n",
       "        </div>\n",
       "        "
      ],
      "text/plain": [
       "<IPython.core.display.HTML object>"
      ]
     },
     "metadata": {},
     "output_type": "display_data"
    },
    {
     "data": {
      "text/html": [
       "\n",
       "        <div style=\"display: flex; flex-direction: column;\">\n",
       "            <div style=\"display: flex; flex-direction: row;\">\n",
       "                <div style=\"margin-right: 20px;\">\n",
       "                    <img src=\"https://m.media-amazon.com/images/M/MV5BNzc1OWY5MjktZDllMi00ZDEzLWEwMGItYjk1YmRhYjBjNTVlXkEyXkFqcGc@._V1_QL75_UY207_CR3,0,140,207_.jpg\" alt=\"Крёстный отец 2\">\n",
       "                </div>\n",
       "                <div style=\"text-align: center;\">\n",
       "                    <h3>Крёстный отец 2</h3>\n",
       "                    <p>Год: <strong>1974</strong></p>\n",
       "                    <p>Оценка IMDb: <strong>9.0</strong></p>\n",
       "                </div>\n",
       "            </div>\n",
       "            <div style=\"text-align: justify;\">\n",
       "                <h4>Краткое описание</h4>\n",
       "                <p>The early life and career of Vito Corleone in 1920s New York City is portrayed, while his son, Michael, expands and tightens his grip on the family crime syndicate.</p>\n",
       "                <p>Описаны ранние годы жизни и карьера Вито Корлеоне в Нью-Йорке 1920-х годов, в то время как его сын Майкл расширяет и ужесточает контроль над семейным преступным синдикатом.</p>\n",
       "            </div>\n",
       "        </div>\n",
       "        "
      ],
      "text/plain": [
       "<IPython.core.display.HTML object>"
      ]
     },
     "metadata": {},
     "output_type": "display_data"
    },
    {
     "data": {
      "text/html": [
       "\n",
       "        <div style=\"display: flex; flex-direction: column;\">\n",
       "            <div style=\"display: flex; flex-direction: row;\">\n",
       "                <div style=\"margin-right: 20px;\">\n",
       "                    <img src=\"https://m.media-amazon.com/images/M/MV5BMjAxMzY3NjcxNF5BMl5BanBnXkFtZTcwNTI5OTM0Mw@@._V1_QL75_UX140_CR0,0,140,207_.jpg\" alt=\"Начало\">\n",
       "                </div>\n",
       "                <div style=\"text-align: center;\">\n",
       "                    <h3>Начало</h3>\n",
       "                    <p>Год: <strong>2010</strong></p>\n",
       "                    <p>Оценка IMDb: <strong>8.8</strong></p>\n",
       "                </div>\n",
       "            </div>\n",
       "            <div style=\"text-align: justify;\">\n",
       "                <h4>Краткое описание</h4>\n",
       "                <p>A thief who steals corporate secrets through the use of dream-sharing technology is given the inverse task of planting an idea into the mind of a C.E.O., but his tragic past may doom the project and his team to disaster.</p>\n",
       "                <p>Вору, который крадет корпоративные секреты с помощью технологии обмена мечтами, предстоит обратная задача: внедрить идею в сознание генерального директора, но его трагическое прошлое может обречь проект и его команду на катастрофу.</p>\n",
       "            </div>\n",
       "        </div>\n",
       "        "
      ],
      "text/plain": [
       "<IPython.core.display.HTML object>"
      ]
     },
     "metadata": {},
     "output_type": "display_data"
    }
   ],
   "source": [
    "random_movies = random.sample(movies, 10)\n",
    "for movie in random_movies:\n",
    "    movie.display_movie()"
   ]
  }
 ],
 "metadata": {
  "kernelspec": {
   "display_name": "Python 3",
   "language": "python",
   "name": "python3"
  },
  "language_info": {
   "codemirror_mode": {
    "name": "ipython",
    "version": 3
   },
   "file_extension": ".py",
   "mimetype": "text/x-python",
   "name": "python",
   "nbconvert_exporter": "python",
   "pygments_lexer": "ipython3",
   "version": "3.12.3"
  }
 },
 "nbformat": 4,
 "nbformat_minor": 2
}
