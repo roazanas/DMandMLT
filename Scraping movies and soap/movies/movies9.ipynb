{
 "cells": [
  {
   "cell_type": "markdown",
   "metadata": {},
   "source": [
    "9. Суммируя весь предыдущий опыт напишите программу, которая будет скрейпить данные из imdb. Рекомендуемые библиотеки: BeautifulSoup, requests и random. Программа должна выполнять следующий функционал:\n",
    "\n",
    "    a. При запуске программа должна подключаться к странице https://www.imdb.com/chart/top\n",
    "\n",
    "    b. Собирать список фильмов (и по вашему желанию их описание)\n",
    "\n",
    "    c. Выводить 10 случайных фильмов"
   ]
  },
  {
   "cell_type": "markdown",
   "metadata": {},
   "source": [
    "Работает только на первые 25 фильмов из-за ленивой подгрузки. Для возможност парсить все 250 фильмов была идея использовать Selenium, однако не имею в нём большого опыта"
   ]
  },
  {
   "cell_type": "code",
   "execution_count": 14,
   "metadata": {},
   "outputs": [
    {
     "name": "stdout",
     "output_type": "stream",
     "text": [
      "Requirement already satisfied: requests in c:\\users\\ntikh\\appdata\\local\\programs\\python\\python312\\lib\\site-packages (from -r requirements.txt (line 1)) (2.32.3)\n",
      "Requirement already satisfied: bs4 in c:\\users\\ntikh\\appdata\\local\\programs\\python\\python312\\lib\\site-packages (from -r requirements.txt (line 2)) (0.0.2)\n",
      "Requirement already satisfied: lxml in c:\\users\\ntikh\\appdata\\local\\programs\\python\\python312\\lib\\site-packages (from -r requirements.txt (line 3)) (5.3.0)\n",
      "Requirement already satisfied: tqdm in c:\\users\\ntikh\\appdata\\local\\programs\\python\\python312\\lib\\site-packages (from -r requirements.txt (line 4)) (4.66.4)\n",
      "Requirement already satisfied: charset-normalizer<4,>=2 in c:\\users\\ntikh\\appdata\\local\\programs\\python\\python312\\lib\\site-packages (from requests->-r requirements.txt (line 1)) (3.3.2)\n",
      "Requirement already satisfied: idna<4,>=2.5 in c:\\users\\ntikh\\appdata\\local\\programs\\python\\python312\\lib\\site-packages (from requests->-r requirements.txt (line 1)) (3.7)\n",
      "Requirement already satisfied: urllib3<3,>=1.21.1 in c:\\users\\ntikh\\appdata\\local\\programs\\python\\python312\\lib\\site-packages (from requests->-r requirements.txt (line 1)) (2.2.1)\n",
      "Requirement already satisfied: certifi>=2017.4.17 in c:\\users\\ntikh\\appdata\\local\\programs\\python\\python312\\lib\\site-packages (from requests->-r requirements.txt (line 1)) (2024.2.2)\n",
      "Requirement already satisfied: beautifulsoup4 in c:\\users\\ntikh\\appdata\\local\\programs\\python\\python312\\lib\\site-packages (from bs4->-r requirements.txt (line 2)) (4.12.3)\n",
      "Requirement already satisfied: colorama in c:\\users\\ntikh\\appdata\\local\\programs\\python\\python312\\lib\\site-packages (from tqdm->-r requirements.txt (line 4)) (0.4.6)\n",
      "Requirement already satisfied: soupsieve>1.2 in c:\\users\\ntikh\\appdata\\local\\programs\\python\\python312\\lib\\site-packages (from beautifulsoup4->bs4->-r requirements.txt (line 2)) (2.5)\n",
      "Note: you may need to restart the kernel to use updated packages.\n",
      "Requirement already satisfied: python-dotenv in c:\\users\\ntikh\\appdata\\local\\programs\\python\\python312\\lib\\site-packages (1.0.1)Note: you may need to restart the kernel to use updated packages.\n",
      "\n"
     ]
    }
   ],
   "source": [
    "%pip install -r requirements.txt\n",
    "%pip install python-dotenv\n",
    "# python-dotenv нужен для безопасного хранения API ключа"
   ]
  },
  {
   "cell_type": "code",
   "execution_count": 2,
   "metadata": {},
   "outputs": [],
   "source": [
    "import requests\n",
    "from bs4 import BeautifulSoup\n",
    "import random\n",
    "from IPython.display import HTML, display\n",
    "import re\n",
    "import os\n",
    "from dotenv import load_dotenv\n",
    "from tqdm import tqdm"
   ]
  },
  {
   "cell_type": "code",
   "execution_count": 3,
   "metadata": {},
   "outputs": [],
   "source": [
    "load_dotenv()\n",
    "RAPIDAPI_KEY = os.getenv('RAPIDAPI_KEY')"
   ]
  },
  {
   "cell_type": "code",
   "execution_count": 4,
   "metadata": {},
   "outputs": [],
   "source": [
    "headers = {\n",
    "    'User-Agent': 'Mozilla/5.0 (Windows NT 10.0; Win64; x64) AppleWebKit/537.36 (KHTML, like Gecko) Chrome/58.0.3029.110 Safari/537.3'\n",
    "}\n",
    "session = requests.session()"
   ]
  },
  {
   "cell_type": "code",
   "execution_count": 5,
   "metadata": {},
   "outputs": [],
   "source": [
    "def get_discription(url):\n",
    "    html = session.get(url, headers=headers).text\n",
    "    soup = BeautifulSoup(html, 'lxml')\n",
    "    span = soup.find('span', {'data-testid': 'plot-xl', 'role': 'presentation'})\n",
    "    if span:\n",
    "        return span.text.strip()\n",
    "    else:\n",
    "        return \"No description found\""
   ]
  },
  {
   "cell_type": "code",
   "execution_count": 6,
   "metadata": {},
   "outputs": [],
   "source": [
    "def deep_translate(text):\n",
    "    if not RAPIDAPI_KEY:\n",
    "        return ''\n",
    "    url = 'https://deep-translate1.p.rapidapi.com/language/translate/v2'\n",
    "    payload = {\n",
    "        'q': text,\n",
    "        'source': 'en',\n",
    "        'target': 'ru'\n",
    "    }\n",
    "   \n",
    "    headers = {\n",
    "        'content-type': 'application/json',\n",
    "        'X-RapidAPI-Key': RAPIDAPI_KEY,\n",
    "        'X-RapidAPI-Host': 'deep-translate1.p.rapidapi.com'\n",
    "    }\n",
    "    try:\n",
    "        return requests.post(url, json=payload, headers=headers).json()['data']['translations']['translatedText']\n",
    "    except KeyError:\n",
    "        return '<ошибка во время перевода>'"
   ]
  },
  {
   "cell_type": "code",
   "execution_count": 7,
   "metadata": {},
   "outputs": [],
   "source": [
    "class Movie:\n",
    "    def __init__(self, poster_url, title, year, rating, description=''):\n",
    "        self.poster_url = poster_url\n",
    "        self.title = title\n",
    "        self.year = year\n",
    "        self.rating = rating\n",
    "        self.description = description\n",
    "    \n",
    "    @classmethod\n",
    "    def from_li_str(cls, li_str):\n",
    "        soup = BeautifulSoup(li_str, 'lxml')\n",
    "        poster_url = soup.find('img')['src']\n",
    "        title_full = soup.find('h3', class_='ipc-title__text').text.strip()\n",
    "        title = re.sub(r'^\\d+\\.\\s*', '', title_full)\n",
    "        year = soup.find('span', class_='cli-title-metadata-item').text.strip()[:4]\n",
    "        rating = soup.find('span', class_='ipc-rating-star--imdb').text.strip()[:3]\n",
    "        discr_url = fr'https://www.imdb.com/{soup.find('a', class_='ipc-title-link-wrapper').get('href')}'\n",
    "        discription = get_discription(discr_url)\n",
    "        return cls(poster_url, title, year, rating, discription)\n",
    "\n",
    "    def get_dict(self):\n",
    "        return {'poster': self.poster_url, \n",
    "                'title': self.title, \n",
    "                'year': self.year, \n",
    "                'rating': self.rating, \n",
    "                'description': self.description}\n",
    "    \n",
    "    def display_movie(self):\n",
    "        html = f\"\"\"\n",
    "        <div style=\"display: flex; flex-direction: column;\">\n",
    "            <div style=\"display: flex; flex-direction: row;\">\n",
    "                <div style=\"margin-right: 20px;\">\n",
    "                    <img src=\"{self.poster_url}\" alt=\"{self.title}\">\n",
    "                </div>\n",
    "                <div style=\"text-align: center;\">\n",
    "                    <h3>{self.title}</h3>\n",
    "                    <p>Год: <strong>{self.year}</strong></p>\n",
    "                    <p>Оценка IMDb: <strong>{self.rating}</strong></p>\n",
    "                </div>\n",
    "            </div>\n",
    "            <div style=\"text-align: justify;\">\n",
    "                <h4>Краткое описание</h4>\n",
    "                <p>{self.description}</p>\n",
    "                <p>{deep_translate(self.description)}</p>\n",
    "            </div>\n",
    "        </div>\n",
    "        \"\"\"\n",
    "        display(HTML(html))"
   ]
  },
  {
   "cell_type": "code",
   "execution_count": 8,
   "metadata": {},
   "outputs": [],
   "source": [
    "url = 'https://www.imdb.com/chart/top/'"
   ]
  },
  {
   "cell_type": "code",
   "execution_count": 9,
   "metadata": {},
   "outputs": [],
   "source": [
    "response = session.get(url, headers=headers)\n",
    "response.raise_for_status()"
   ]
  },
  {
   "cell_type": "code",
   "execution_count": 10,
   "metadata": {},
   "outputs": [],
   "source": [
    "soup = BeautifulSoup(response.text, 'lxml')\n",
    "movies_html = soup.find('ul', role='presentation')"
   ]
  },
  {
   "cell_type": "code",
   "execution_count": 15,
   "metadata": {},
   "outputs": [
    {
     "name": "stderr",
     "output_type": "stream",
     "text": [
      "100%|\u001b[32m██████████\u001b[0m| 25/25 [00:32<00:00,  1.29s/it]\n"
     ]
    }
   ],
   "source": [
    "movies = []\n",
    "for movie_html in tqdm(movies_html.find_all('li'), colour='green'):\n",
    "    movies.append(Movie.from_li_str(str(movie_html)))"
   ]
  },
  {
   "cell_type": "code",
   "execution_count": 16,
   "metadata": {},
   "outputs": [
    {
     "data": {
      "text/html": [
       "\n",
       "        <div style=\"display: flex; flex-direction: column;\">\n",
       "            <div style=\"display: flex; flex-direction: row;\">\n",
       "                <div style=\"margin-right: 20px;\">\n",
       "                    <img src=\"https://m.media-amazon.com/images/M/MV5BMjAxMzY3NjcxNF5BMl5BanBnXkFtZTcwNTI5OTM0Mw@@._V1_QL75_UX140_CR0,0,140,207_.jpg\" alt=\"Inception\">\n",
       "                </div>\n",
       "                <div style=\"text-align: center;\">\n",
       "                    <h3>Inception</h3>\n",
       "                    <p>Год: <strong>2010</strong></p>\n",
       "                    <p>Оценка IMDb: <strong>8.8</strong></p>\n",
       "                </div>\n",
       "            </div>\n",
       "            <div style=\"text-align: justify;\">\n",
       "                <h4>Краткое описание</h4>\n",
       "                <p>A thief who steals corporate secrets through the use of dream-sharing technology is given the inverse task of planting an idea into the mind of a C.E.O., but his tragic past may doom the project and his team to disaster.</p>\n",
       "                <p>Вору, который крадет корпоративные секреты с помощью технологии обмена мечтами, предстоит обратная задача: внедрить идею в сознание генерального директора, но его трагическое прошлое может обречь проект и его команду на катастрофу.</p>\n",
       "            </div>\n",
       "        </div>\n",
       "        "
      ],
      "text/plain": [
       "<IPython.core.display.HTML object>"
      ]
     },
     "metadata": {},
     "output_type": "display_data"
    },
    {
     "data": {
      "text/html": [
       "\n",
       "        <div style=\"display: flex; flex-direction: column;\">\n",
       "            <div style=\"display: flex; flex-direction: row;\">\n",
       "                <div style=\"margin-right: 20px;\">\n",
       "                    <img src=\"https://m.media-amazon.com/images/M/MV5BMDM4OWFhYjEtNTE5Yy00NjcyLTg5N2UtZDQwNDZlYjlmNDU5XkEyXkFqcGc@._V1_QL75_UY207_CR1,0,140,207_.jpg\" alt=\"Ihmeellinen on elämä\">\n",
       "                </div>\n",
       "                <div style=\"text-align: center;\">\n",
       "                    <h3>Ihmeellinen on elämä</h3>\n",
       "                    <p>Год: <strong>1946</strong></p>\n",
       "                    <p>Оценка IMDb: <strong>8.6</strong></p>\n",
       "                </div>\n",
       "            </div>\n",
       "            <div style=\"text-align: justify;\">\n",
       "                <h4>Краткое описание</h4>\n",
       "                <p>An angel is sent from Heaven to help a desperately frustrated businessman by showing him what life would have been like if he had never existed.</p>\n",
       "                <p>Ангел послан с Небес, чтобы помочь отчаянно разочарованному бизнесмену, показав ему, какой была бы жизнь, если бы его никогда не существовало.</p>\n",
       "            </div>\n",
       "        </div>\n",
       "        "
      ],
      "text/plain": [
       "<IPython.core.display.HTML object>"
      ]
     },
     "metadata": {},
     "output_type": "display_data"
    },
    {
     "data": {
      "text/html": [
       "\n",
       "        <div style=\"display: flex; flex-direction: column;\">\n",
       "            <div style=\"display: flex; flex-direction: row;\">\n",
       "                <div style=\"margin-right: 20px;\">\n",
       "                    <img src=\"https://m.media-amazon.com/images/M/MV5BYjY4NGI5OTUtY2ZlZS00Zjk4LTk5N2MtN2JmYWVjNGNmMGRlXkEyXkFqcGc@._V1_QL75_UY207_CR0,0,140,207_.jpg\" alt=\"City of God\">\n",
       "                </div>\n",
       "                <div style=\"text-align: center;\">\n",
       "                    <h3>City of God</h3>\n",
       "                    <p>Год: <strong>2002</strong></p>\n",
       "                    <p>Оценка IMDb: <strong>8.6</strong></p>\n",
       "                </div>\n",
       "            </div>\n",
       "            <div style=\"text-align: justify;\">\n",
       "                <h4>Краткое описание</h4>\n",
       "                <p>In the slums of Rio, two kids' paths diverge as one struggles to become a photographer and the other a kingpin.</p>\n",
       "                <p>В трущобах Рио пути двух детей расходятся: один изо всех сил пытается стать фотографом, а другой — вором в законе.</p>\n",
       "            </div>\n",
       "        </div>\n",
       "        "
      ],
      "text/plain": [
       "<IPython.core.display.HTML object>"
      ]
     },
     "metadata": {},
     "output_type": "display_data"
    },
    {
     "data": {
      "text/html": [
       "\n",
       "        <div style=\"display: flex; flex-direction: column;\">\n",
       "            <div style=\"display: flex; flex-direction: row;\">\n",
       "                <div style=\"margin-right: 20px;\">\n",
       "                    <img src=\"https://m.media-amazon.com/images/M/MV5BOTgyOGQ1NDItNGU3Ny00MjU3LTg2YWEtNmEyYjBiMjI1Y2M5XkEyXkFqcGc@._V1_QL75_UX140_CR0,1,140,207_.jpg\" alt=\"Fight Club\">\n",
       "                </div>\n",
       "                <div style=\"text-align: center;\">\n",
       "                    <h3>Fight Club</h3>\n",
       "                    <p>Год: <strong>1999</strong></p>\n",
       "                    <p>Оценка IMDb: <strong>8.8</strong></p>\n",
       "                </div>\n",
       "            </div>\n",
       "            <div style=\"text-align: justify;\">\n",
       "                <h4>Краткое описание</h4>\n",
       "                <p>An insomniac office worker and a devil-may-care soap maker form an underground fight club that evolves into much more.</p>\n",
       "                <p>Офисный работник, страдающий бессонницей, и наплевательский мыловар создают подпольный бойцовский клуб, который перерастает в нечто большее.</p>\n",
       "            </div>\n",
       "        </div>\n",
       "        "
      ],
      "text/plain": [
       "<IPython.core.display.HTML object>"
      ]
     },
     "metadata": {},
     "output_type": "display_data"
    },
    {
     "data": {
      "text/html": [
       "\n",
       "        <div style=\"display: flex; flex-direction: column;\">\n",
       "            <div style=\"display: flex; flex-direction: row;\">\n",
       "                <div style=\"margin-right: 20px;\">\n",
       "                    <img src=\"https://m.media-amazon.com/images/M/MV5BY2IzNzMxZjctZjUxZi00YzAxLTk3ZjMtODFjODdhMDU5NDM1XkEyXkFqcGc@._V1_QL75_UX140_CR0,6,140,207_.jpg\" alt=\"Seitsemän\">\n",
       "                </div>\n",
       "                <div style=\"text-align: center;\">\n",
       "                    <h3>Seitsemän</h3>\n",
       "                    <p>Год: <strong>1995</strong></p>\n",
       "                    <p>Оценка IMDb: <strong>8.6</strong></p>\n",
       "                </div>\n",
       "            </div>\n",
       "            <div style=\"text-align: justify;\">\n",
       "                <h4>Краткое описание</h4>\n",
       "                <p>Two detectives, a rookie and a veteran, hunt a serial killer who uses the seven deadly sins as his motives.</p>\n",
       "                <p>Два детектива, новичок и ветеран, выслеживают серийного убийцу, который использует семь смертных грехов в качестве своих мотивов.</p>\n",
       "            </div>\n",
       "        </div>\n",
       "        "
      ],
      "text/plain": [
       "<IPython.core.display.HTML object>"
      ]
     },
     "metadata": {},
     "output_type": "display_data"
    },
    {
     "data": {
      "text/html": [
       "\n",
       "        <div style=\"display: flex; flex-direction: column;\">\n",
       "            <div style=\"display: flex; flex-direction: row;\">\n",
       "                <div style=\"margin-right: 20px;\">\n",
       "                    <img src=\"https://m.media-amazon.com/images/M/MV5BMTMxNTMwODM0NF5BMl5BanBnXkFtZTcwODAyMTk2Mw@@._V1_QL75_UX140_CR0,0,140,207_.jpg\" alt=\"Yön ritari\">\n",
       "                </div>\n",
       "                <div style=\"text-align: center;\">\n",
       "                    <h3>Yön ritari</h3>\n",
       "                    <p>Год: <strong>2008</strong></p>\n",
       "                    <p>Оценка IMDb: <strong>9.0</strong></p>\n",
       "                </div>\n",
       "            </div>\n",
       "            <div style=\"text-align: justify;\">\n",
       "                <h4>Краткое описание</h4>\n",
       "                <p>When a menace known as the Joker wreaks havoc and chaos on the people of Gotham, Batman, James Gordon and Harvey Dent must work together to put an end to the madness.</p>\n",
       "                <p>Когда угроза, известная как Джокер, сеет хаос и хаос среди жителей Готэма, Бэтмен, Джеймс Гордон и Харви Дент должны работать вместе, чтобы положить конец безумию.</p>\n",
       "            </div>\n",
       "        </div>\n",
       "        "
      ],
      "text/plain": [
       "<IPython.core.display.HTML object>"
      ]
     },
     "metadata": {},
     "output_type": "display_data"
    },
    {
     "data": {
      "text/html": [
       "\n",
       "        <div style=\"display: flex; flex-direction: column;\">\n",
       "            <div style=\"display: flex; flex-direction: row;\">\n",
       "                <div style=\"margin-right: 20px;\">\n",
       "                    <img src=\"https://m.media-amazon.com/images/M/MV5BNzIxMDQ2YTctNDY4MC00ZTRhLTk4ODQtMTVlOWY4NTdiYmMwXkEyXkFqcGc@._V1_QL75_UX140_CR0,0,140,207_.jpg\" alt=\"Taru sormusten herrasta: Sormuksen ritarit\">\n",
       "                </div>\n",
       "                <div style=\"text-align: center;\">\n",
       "                    <h3>Taru sormusten herrasta: Sormuksen ritarit</h3>\n",
       "                    <p>Год: <strong>2001</strong></p>\n",
       "                    <p>Оценка IMDb: <strong>8.9</strong></p>\n",
       "                </div>\n",
       "            </div>\n",
       "            <div style=\"text-align: justify;\">\n",
       "                <h4>Краткое описание</h4>\n",
       "                <p>A meek Hobbit from the Shire and eight companions set out on a journey to destroy the powerful One Ring and save Middle-earth from the Dark Lord Sauron.</p>\n",
       "                <p>Кроткий хоббит из Шира и восемь его спутников отправляются в путешествие, чтобы уничтожить могущественное Единое Кольцо и спасти Средиземье от Темного Лорда Саурона.</p>\n",
       "            </div>\n",
       "        </div>\n",
       "        "
      ],
      "text/plain": [
       "<IPython.core.display.HTML object>"
      ]
     },
     "metadata": {},
     "output_type": "display_data"
    },
    {
     "data": {
      "text/html": [
       "\n",
       "        <div style=\"display: flex; flex-direction: column;\">\n",
       "            <div style=\"display: flex; flex-direction: row;\">\n",
       "                <div style=\"margin-right: 20px;\">\n",
       "                    <img src=\"https://m.media-amazon.com/images/M/MV5BNzc1OWY5MjktZDllMi00ZDEzLWEwMGItYjk1YmRhYjBjNTVlXkEyXkFqcGc@._V1_QL75_UY207_CR3,0,140,207_.jpg\" alt=\"Kummisetä osa II\">\n",
       "                </div>\n",
       "                <div style=\"text-align: center;\">\n",
       "                    <h3>Kummisetä osa II</h3>\n",
       "                    <p>Год: <strong>1974</strong></p>\n",
       "                    <p>Оценка IMDb: <strong>9.0</strong></p>\n",
       "                </div>\n",
       "            </div>\n",
       "            <div style=\"text-align: justify;\">\n",
       "                <h4>Краткое описание</h4>\n",
       "                <p>The early life and career of Vito Corleone in 1920s New York City is portrayed, while his son, Michael, expands and tightens his grip on the family crime syndicate.</p>\n",
       "                <p>Описаны ранние годы жизни и карьера Вито Корлеоне в Нью-Йорке 1920-х годов, в то время как его сын Майкл расширяет и ужесточает контроль над семейным преступным синдикатом.</p>\n",
       "            </div>\n",
       "        </div>\n",
       "        "
      ],
      "text/plain": [
       "<IPython.core.display.HTML object>"
      ]
     },
     "metadata": {},
     "output_type": "display_data"
    },
    {
     "data": {
      "text/html": [
       "\n",
       "        <div style=\"display: flex; flex-direction: column;\">\n",
       "            <div style=\"display: flex; flex-direction: row;\">\n",
       "                <div style=\"margin-right: 20px;\">\n",
       "                    <img src=\"https://m.media-amazon.com/images/M/MV5BNDdhOGJhYzctYzYwZC00YmI2LWI0MjctYjg4ODdlMDExYjBlXkEyXkFqcGc@._V1_QL75_UY207_CR0,0,140,207_.jpg\" alt=\"Uhrilampaat\">\n",
       "                </div>\n",
       "                <div style=\"text-align: center;\">\n",
       "                    <h3>Uhrilampaat</h3>\n",
       "                    <p>Год: <strong>1991</strong></p>\n",
       "                    <p>Оценка IMDb: <strong>8.6</strong></p>\n",
       "                </div>\n",
       "            </div>\n",
       "            <div style=\"text-align: justify;\">\n",
       "                <h4>Краткое описание</h4>\n",
       "                <p>A young F.B.I. cadet must receive the help of an incarcerated and manipulative cannibal killer to help catch another serial killer, a madman who skins his victims.</p>\n",
       "                <p>Молодой Ф.Б.И. Курсант должен получить помощь заключенного в тюрьму и манипулирующего убийцы-каннибала, чтобы помочь поймать другого серийного убийцу, сумасшедшего, который сдирает шкуру со своих жертв.</p>\n",
       "            </div>\n",
       "        </div>\n",
       "        "
      ],
      "text/plain": [
       "<IPython.core.display.HTML object>"
      ]
     },
     "metadata": {},
     "output_type": "display_data"
    },
    {
     "data": {
      "text/html": [
       "\n",
       "        <div style=\"display: flex; flex-direction: column;\">\n",
       "            <div style=\"display: flex; flex-direction: row;\">\n",
       "                <div style=\"margin-right: 20px;\">\n",
       "                    <img src=\"https://m.media-amazon.com/images/M/MV5BN2E5NzI2ZGMtY2VjNi00YTRjLWI1MDUtZGY5OWU1MWJjZjRjXkEyXkFqcGc@._V1_QL75_UX140_CR0,1,140,207_.jpg\" alt=\"Mafiaveljet\">\n",
       "                </div>\n",
       "                <div style=\"text-align: center;\">\n",
       "                    <h3>Mafiaveljet</h3>\n",
       "                    <p>Год: <strong>1990</strong></p>\n",
       "                    <p>Оценка IMDb: <strong>8.7</strong></p>\n",
       "                </div>\n",
       "            </div>\n",
       "            <div style=\"text-align: justify;\">\n",
       "                <h4>Краткое описание</h4>\n",
       "                <p>The story of Henry Hill and his life in the mafia, covering his relationship with his wife Karen and his mob partners Jimmy Conway and Tommy DeVito.</p>\n",
       "                <p>История Генри Хилла и его жизни в мафии, освещающая его отношения с женой Карен и партнерами по мафии Джимми Конвеем и Томми ДеВито.</p>\n",
       "            </div>\n",
       "        </div>\n",
       "        "
      ],
      "text/plain": [
       "<IPython.core.display.HTML object>"
      ]
     },
     "metadata": {},
     "output_type": "display_data"
    }
   ],
   "source": [
    "random_movies = random.sample(movies, 10)\n",
    "for movie in random_movies:\n",
    "    movie.display_movie()"
   ]
  }
 ],
 "metadata": {
  "kernelspec": {
   "display_name": "Python 3",
   "language": "python",
   "name": "python3"
  },
  "language_info": {
   "codemirror_mode": {
    "name": "ipython",
    "version": 3
   },
   "file_extension": ".py",
   "mimetype": "text/x-python",
   "name": "python",
   "nbconvert_exporter": "python",
   "pygments_lexer": "ipython3",
   "version": "3.12.3"
  }
 },
 "nbformat": 4,
 "nbformat_minor": 2
}
