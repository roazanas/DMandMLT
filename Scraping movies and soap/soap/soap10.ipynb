{
 "cells": [
  {
   "cell_type": "markdown",
   "metadata": {},
   "source": [
    "## **Задача 10 - SOAP**\n",
    "### Общее описание задачи - Продвинутый уровень\n",
    "Требуется реализовать программу, которая будет получать данные при помощи методов [любого SOAP сервиса в данном списке](https://www.postman.com/cs-demo/public-soap-apis/collection/eebj1yq/public-soap-apis). Обратите внимание, что для каждого сервиса есть несколько POST методов. То есть ваша программа должна полностью утилизировать весь функционал выбранного вами SOAP сервиса\n"
   ]
  },
  {
   "cell_type": "code",
   "execution_count": 1,
   "metadata": {},
   "outputs": [],
   "source": [
    "import requests\n",
    "from bs4 import BeautifulSoup\n",
    "import xml.etree.ElementTree as ET\n",
    "from ipywidgets import interact, IntSlider, FloatSlider, Layout, HTML"
   ]
  },
  {
   "cell_type": "code",
   "execution_count": 2,
   "metadata": {},
   "outputs": [],
   "source": [
    "def get_payload(number, service=\"n2w\"):\n",
    "    if service == \"n2w\":\n",
    "        tag_name = \"NumberToWords\"\n",
    "        num_tag = \"ubiNum\"\n",
    "    elif service == \"n2d\":\n",
    "        tag_name = \"NumberToDollars\"\n",
    "        num_tag = \"dNum\"\n",
    "    else:\n",
    "        raise ValueError(\"Invalid service. Choose 'n2w' for Number to Words or 'n2d' for Number to Dollars.\")\n",
    "    \n",
    "    return f\"\"\"<?xml version=\"1.0\" encoding=\"utf-8\"?>\n",
    "               <soap:Envelope xmlns:soap=\"http://schemas.xmlsoap.org/soap/envelope/\">\n",
    "                 <soap:Body>\n",
    "                   <{tag_name} xmlns=\"http://www.dataaccess.com/webservicesserver/\">\n",
    "                     <{num_tag}>{number}</{num_tag}>\n",
    "                   </{tag_name}>\n",
    "                 </soap:Body>\n",
    "               </soap:Envelope>\"\"\""
   ]
  },
  {
   "cell_type": "code",
   "execution_count": 3,
   "metadata": {},
   "outputs": [],
   "source": [
    "def parse_response(response, service=\"n2w\"):\n",
    "    root = ET.fromstring(response.content)\n",
    "    namespace = {'m': 'http://www.dataaccess.com/webservicesserver/'}\n",
    "    \n",
    "    if service == \"n2w\":\n",
    "        result_tag = \"NumberToWordsResult\"\n",
    "    elif service == \"n2d\":\n",
    "        result_tag = \"NumberToDollarsResult\"\n",
    "    else:\n",
    "        raise ValueError(\"Invalid service. Choose 'n2w' for Number to Words or 'n2d' for Number to Dollars.\")\n",
    "    \n",
    "    result = root.find(f\".//m:{result_tag}\", namespace).text\n",
    "    return result"
   ]
  },
  {
   "cell_type": "code",
   "execution_count": 4,
   "metadata": {},
   "outputs": [],
   "source": [
    "def number_to_words(number):\n",
    "    url = \"https://www.dataaccess.com/webservicesserver/NumberConversion.wso\"\n",
    "    payload = get_payload(number, 'n2w')\n",
    "    headers = {\n",
    "        'Content-Type': 'text/xml; charset=utf-8'\n",
    "    }\n",
    "    \n",
    "    response = requests.post(url, headers=headers, data=payload)\n",
    "    response.raise_for_status()\n",
    "    return parse_response(response, 'n2w')"
   ]
  },
  {
   "cell_type": "code",
   "execution_count": 5,
   "metadata": {},
   "outputs": [],
   "source": [
    "def number_to_dollars(number):\n",
    "    url = \"https://www.dataaccess.com/webservicesserver/NumberConversion.wso\"\n",
    "    payload = get_payload(number, 'n2d')\n",
    "    headers = {\n",
    "        'Content-Type': 'text/xml; charset=utf-8'\n",
    "    }\n",
    "    \n",
    "    response = requests.post(url, headers=headers, data=payload)\n",
    "    response.raise_for_status()\n",
    "    return parse_response(response, 'n2d')"
   ]
  },
  {
   "cell_type": "code",
   "execution_count": 6,
   "metadata": {},
   "outputs": [],
   "source": [
    "# def display_services(n2w, n2d):\n",
    "#     n2w_conv = number_to_words(n2w)\n",
    "#     n2d_conv = number_to_dollars(n2d)\n",
    "#     print(f'{n2w} -> {n2w_conv}', f'{n2d} -> {n2d_conv}', sep='\\n')"
   ]
  },
  {
   "cell_type": "code",
   "execution_count": 7,
   "metadata": {},
   "outputs": [],
   "source": [
    "def display_services(n2w, n2d):\n",
    "    global result\n",
    "    n2w_conv = number_to_words(n2w)\n",
    "    n2d_conv = number_to_dollars(n2d)\n",
    "    result_html = f\"\"\"\n",
    "    <link href=\"https://fonts.googleapis.com/css2?family=Fira+Mono:wght@400;700&display=swap\" rel=\"stylesheet\">\n",
    "    <div style=\"font-family: 'Fira Code', monospace;\">\n",
    "        {n2w} -> <strong>{n2w_conv}</strong><br>\n",
    "        {n2d} -> <strong>{n2d_conv}</strong>\n",
    "    </div>\n",
    "    \"\"\"\n",
    "    result_widget.value = result_html"
   ]
  },
  {
   "cell_type": "code",
   "execution_count": 8,
   "metadata": {},
   "outputs": [
    {
     "data": {
      "application/vnd.jupyter.widget-view+json": {
       "model_id": "4ab0457ccd48439b950a6fc62c6783bc",
       "version_major": 2,
       "version_minor": 0
      },
      "text/plain": [
       "interactive(children=(IntSlider(value=922813371488, continuous_update=False, description='N2Words', layout=Lay…"
      ]
     },
     "metadata": {},
     "output_type": "display_data"
    },
    {
     "data": {
      "application/vnd.jupyter.widget-view+json": {
       "model_id": "8fb19026294643758e382b2d977bff8a",
       "version_major": 2,
       "version_minor": 0
      },
      "text/plain": [
       "HTML(value='\\n    <link href=\"https://fonts.googleapis.com/css2?family=Fira+Mono:wght@400;700&display=swap\" re…"
      ]
     },
     "metadata": {},
     "output_type": "display_data"
    }
   ],
   "source": [
    "n2w = IntSlider(\n",
    "    min=0, \n",
    "    max=1_000_000_000_000, \n",
    "    step=1, \n",
    "    continuous_update=False, \n",
    "    layout=Layout(width='95%'), \n",
    "    description='N2Words',\n",
    "    tooltip='Number To Words',\n",
    "    value=922813371488\n",
    ")\n",
    "\n",
    "n2d = FloatSlider(\n",
    "    min=0.01, \n",
    "    max=1_000_000_000_000, \n",
    "    step=0.01, \n",
    "    continuous_update=False, \n",
    "    layout=Layout(width='95%'), \n",
    "    description='N2Dollars',\n",
    "    tooltip='Number To Dollars (And Cents)',\n",
    "    value=92281337.1488\n",
    ")\n",
    "\n",
    "result_widget = HTML()\n",
    "\n",
    "_ = interact(display_services, n2w=n2w, n2d=n2d)\n",
    "display(result_widget)"
   ]
  }
 ],
 "metadata": {
  "kernelspec": {
   "display_name": "Python 3",
   "language": "python",
   "name": "python3"
  },
  "language_info": {
   "codemirror_mode": {
    "name": "ipython",
    "version": 3
   },
   "file_extension": ".py",
   "mimetype": "text/x-python",
   "name": "python",
   "nbconvert_exporter": "python",
   "pygments_lexer": "ipython3",
   "version": "3.12.3"
  }
 },
 "nbformat": 4,
 "nbformat_minor": 2
}
