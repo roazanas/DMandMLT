{
 "cells": [
  {
   "cell_type": "code",
   "execution_count": 8,
   "metadata": {},
   "outputs": [],
   "source": [
    "import numpy as np"
   ]
  },
  {
   "cell_type": "code",
   "execution_count": 9,
   "metadata": {},
   "outputs": [
    {
     "name": "stdout",
     "output_type": "stream",
     "text": [
      "Матрица переходов P:\n",
      "[[0.2229575  0.39977738 0.22003933 0.12998225 0.02724355]\n",
      " [0.13377031 0.14163289 0.45306508 0.02063208 0.25089965]\n",
      " [0.28023256 0.22513197 0.03844404 0.33533417 0.12085725]\n",
      " [0.24009983 0.15335604 0.29910915 0.28406954 0.02336543]\n",
      " [0.27613127 0.19544796 0.18674428 0.18344555 0.15823094]]\n"
     ]
    }
   ],
   "source": [
    "P = np.random.rand(5, 5)\n",
    "row_sums = P.sum(axis=1)\n",
    "P = P / row_sums[:, np.newaxis]\n",
    "\n",
    "print(\"Матрица переходов P:\")\n",
    "print(P)"
   ]
  },
  {
   "cell_type": "code",
   "execution_count": 10,
   "metadata": {},
   "outputs": [
    {
     "name": "stdout",
     "output_type": "stream",
     "text": [
      "\n",
      "Начальное распределение p:\n",
      "[0.08677975 0.12655594 0.34942534 0.27973996 0.15749901]\n",
      "Сумма вероятностей: 1.0\n"
     ]
    }
   ],
   "source": [
    "p_initial = np.random.rand(5)\n",
    "p_initial = p_initial / p_initial.sum()\n",
    "\n",
    "print(\"\\nНачальное распределение p:\")\n",
    "print(p_initial)\n",
    "print(\"Сумма вероятностей:\", p_initial.sum())"
   ]
  },
  {
   "cell_type": "code",
   "execution_count": 11,
   "metadata": {},
   "outputs": [
    {
     "name": "stdout",
     "output_type": "stream",
     "text": [
      "\n",
      "Распределение после 50 шагов (p_50):\n",
      "[0.22575326 0.22843727 0.24073055 0.18985118 0.11522773]\n"
     ]
    }
   ],
   "source": [
    "p_current = p_initial.copy()\n",
    "for _ in range(50):\n",
    "    p_current = P.T.dot(p_current)\n",
    "p_50 = p_current\n",
    "\n",
    "print(\"\\nРаспределение после 50 шагов (p_50):\")\n",
    "print(p_50)"
   ]
  },
  {
   "cell_type": "code",
   "execution_count": 12,
   "metadata": {},
   "outputs": [
    {
     "name": "stdout",
     "output_type": "stream",
     "text": [
      "\n",
      "Стационарное распределение:\n",
      "[0.22575326 0.22843727 0.24073055 0.18985118 0.11522773]\n"
     ]
    }
   ],
   "source": [
    "eigenvalues, eigenvectors = np.linalg.eig(P.T)\n",
    "idx = np.argmin(np.abs(eigenvalues - 1))\n",
    "p_stationary = np.real(eigenvectors[:, idx])\n",
    "p_stationary = p_stationary / p_stationary.sum()\n",
    "\n",
    "print(\"\\nСтационарное распределение:\")\n",
    "print(p_stationary)"
   ]
  },
  {
   "cell_type": "code",
   "execution_count": 13,
   "metadata": {},
   "outputs": [
    {
     "name": "stdout",
     "output_type": "stream",
     "text": [
      "\n",
      "Разница между p_50 и p_stationary: 2.7894008272968645e-16\n",
      "Распределения равны с точностью 1e-5: True\n"
     ]
    }
   ],
   "source": [
    "diff = np.linalg.norm(p_50 - p_stationary)\n",
    "print(\"\\nРазница между p_50 и p_stationary:\", diff)\n",
    "print(\"Распределения равны с точностью 1e-5:\", diff < 1e-5)"
   ]
  }
 ],
 "metadata": {
  "kernelspec": {
   "display_name": "Python 3",
   "language": "python",
   "name": "python3"
  },
  "language_info": {
   "codemirror_mode": {
    "name": "ipython",
    "version": 3
   },
   "file_extension": ".py",
   "mimetype": "text/x-python",
   "name": "python",
   "nbconvert_exporter": "python",
   "pygments_lexer": "ipython3",
   "version": "3.12.3"
  }
 },
 "nbformat": 4,
 "nbformat_minor": 2
}
