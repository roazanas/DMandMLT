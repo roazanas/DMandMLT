{
 "cells": [
  {
   "cell_type": "markdown",
   "metadata": {},
   "source": [
    "9. Суммируя весь предыдущий опыт напишите программу, которая будет скрейпить данные из imdb. Рекомендуемые библиотеки: BeautifulSoup, requests и random. Программа должна выполнять следующий функционал:\n",
    "\n",
    "    a. При запуске программа должна подключаться к странице https://www.imdb.com/chart/top\n",
    "\n",
    "    b. Собирать список фильмов (и по вашему желанию их описание)\n",
    "\n",
    "    c. Выводить 10 случайных фильмов"
   ]
  },
  {
   "cell_type": "markdown",
   "metadata": {},
   "source": [
    "Работает только на первые 25 фильмов из-за ленивой подгрузки. Для возможност парсить все 250 фильмов была идея использовать Selenium, однако не имею в нём большого опыта"
   ]
  },
  {
   "cell_type": "code",
   "execution_count": 1,
   "metadata": {},
   "outputs": [
    {
     "name": "stdout",
     "output_type": "stream",
     "text": [
      "Requirement already satisfied: requests in c:\\users\\ntikh\\appdata\\local\\programs\\python\\python312\\lib\\site-packages (from -r requirements.txt (line 1)) (2.32.3)\n",
      "Requirement already satisfied: bs4 in c:\\users\\ntikh\\appdata\\local\\programs\\python\\python312\\lib\\site-packages (from -r requirements.txt (line 2)) (0.0.2)\n",
      "Requirement already satisfied: lxml in c:\\users\\ntikh\\appdata\\local\\programs\\python\\python312\\lib\\site-packages (from -r requirements.txt (line 3)) (5.3.0)\n",
      "Requirement already satisfied: charset-normalizer<4,>=2 in c:\\users\\ntikh\\appdata\\local\\programs\\python\\python312\\lib\\site-packages (from requests->-r requirements.txt (line 1)) (3.3.2)\n",
      "Requirement already satisfied: idna<4,>=2.5 in c:\\users\\ntikh\\appdata\\local\\programs\\python\\python312\\lib\\site-packages (from requests->-r requirements.txt (line 1)) (3.7)\n",
      "Requirement already satisfied: urllib3<3,>=1.21.1 in c:\\users\\ntikh\\appdata\\local\\programs\\python\\python312\\lib\\site-packages (from requests->-r requirements.txt (line 1)) (2.2.1)\n",
      "Requirement already satisfied: certifi>=2017.4.17 in c:\\users\\ntikh\\appdata\\local\\programs\\python\\python312\\lib\\site-packages (from requests->-r requirements.txt (line 1)) (2024.2.2)\n",
      "Requirement already satisfied: beautifulsoup4 in c:\\users\\ntikh\\appdata\\local\\programs\\python\\python312\\lib\\site-packages (from bs4->-r requirements.txt (line 2)) (4.12.3)\n",
      "Requirement already satisfied: soupsieve>1.2 in c:\\users\\ntikh\\appdata\\local\\programs\\python\\python312\\lib\\site-packages (from beautifulsoup4->bs4->-r requirements.txt (line 2)) (2.5)\n",
      "Note: you may need to restart the kernel to use updated packages.\n",
      "Requirement already satisfied: python-dotenv in c:\\users\\ntikh\\appdata\\local\\programs\\python\\python312\\lib\\site-packages (1.0.1)\n",
      "Note: you may need to restart the kernel to use updated packages.\n"
     ]
    }
   ],
   "source": [
    "%pip install -r requirements.txt\n",
    "%pip install python-dotenv"
   ]
  },
  {
   "cell_type": "code",
   "execution_count": 2,
   "metadata": {},
   "outputs": [],
   "source": [
    "import requests\n",
    "from bs4 import BeautifulSoup\n",
    "import random\n",
    "from IPython.display import HTML, display\n",
    "import re\n",
    "import os\n",
    "from dotenv import load_dotenv"
   ]
  },
  {
   "cell_type": "code",
   "execution_count": 3,
   "metadata": {},
   "outputs": [],
   "source": [
    "load_dotenv()\n",
    "RAPIDAPI_KEY = os.getenv('RAPIDAPI_KEY')"
   ]
  },
  {
   "cell_type": "code",
   "execution_count": 4,
   "metadata": {},
   "outputs": [],
   "source": [
    "headers = {\n",
    "    'User-Agent': 'Mozilla/5.0 (Windows NT 10.0; Win64; x64) AppleWebKit/537.36 (KHTML, like Gecko) Chrome/58.0.3029.110 Safari/537.3'\n",
    "}\n",
    "session = requests.session()"
   ]
  },
  {
   "cell_type": "code",
   "execution_count": 5,
   "metadata": {},
   "outputs": [],
   "source": [
    "def get_discription(url):\n",
    "    html = session.get(url, headers=headers).text\n",
    "    soup = BeautifulSoup(html, 'lxml')\n",
    "    span = soup.find('span', {'data-testid': 'plot-xl', 'role': 'presentation'})\n",
    "    if span:\n",
    "        return span.text.strip()\n",
    "    else:\n",
    "        return \"No description found\""
   ]
  },
  {
   "cell_type": "code",
   "execution_count": 6,
   "metadata": {},
   "outputs": [],
   "source": [
    "def deep_translate(text):\n",
    "    if not RAPIDAPI_KEY:\n",
    "        return ''\n",
    "    url = 'https://deep-translate1.p.rapidapi.com/language/translate/v2'\n",
    "    payload = {\n",
    "        'q': text,\n",
    "        'source': 'en',\n",
    "        'target': 'ru'\n",
    "    }\n",
    "   \n",
    "    headers = {\n",
    "        'content-type': 'application/json',\n",
    "        'X-RapidAPI-Key': RAPIDAPI_KEY,\n",
    "        'X-RapidAPI-Host': 'deep-translate1.p.rapidapi.com'\n",
    "    }\n",
    "    try:\n",
    "        return requests.post(url, json=payload, headers=headers).json()['data']['translations']['translatedText']\n",
    "    except KeyError:\n",
    "        return '<ошибка во время перевода>'"
   ]
  },
  {
   "cell_type": "code",
   "execution_count": 7,
   "metadata": {},
   "outputs": [],
   "source": [
    "class Movie:\n",
    "    def __init__(self, poster_url, title, year, rating, description=''):\n",
    "        self.poster_url = poster_url\n",
    "        self.title = title\n",
    "        self.year = year\n",
    "        self.rating = rating\n",
    "        self.description = description\n",
    "    \n",
    "    @classmethod\n",
    "    def from_li_str(cls, li_str):\n",
    "        soup = BeautifulSoup(li_str, 'lxml')\n",
    "        poster_url = soup.find('img')['src']\n",
    "        title_full = soup.find('h3', class_='ipc-title__text').text.strip()\n",
    "        title = re.sub(r'^\\d+\\.\\s*', '', title_full)\n",
    "        year = soup.find('span', class_='cli-title-metadata-item').text.strip()[:4]\n",
    "        rating = soup.find('span', class_='ipc-rating-star--imdb').text.strip()[:3]\n",
    "        discr_url = fr'https://www.imdb.com/{soup.find('a', class_='ipc-title-link-wrapper').get('href')}'\n",
    "        discription = get_discription(discr_url)\n",
    "        return cls(poster_url, title, year, rating, discription)\n",
    "\n",
    "    def get_dict(self):\n",
    "        return {'poster': self.poster_url, \n",
    "                'title': self.title, \n",
    "                'year': self.year, \n",
    "                'rating': self.rating, \n",
    "                'description': self.description}\n",
    "    \n",
    "    def display_movie(self):\n",
    "        html = f\"\"\"\n",
    "        <div style=\"display: flex; flex-direction: column;\">\n",
    "            <div style=\"display: flex; flex-direction: row;\">\n",
    "                <div style=\"margin-right: 20px;\">\n",
    "                    <img src=\"{self.poster_url}\" alt=\"{self.title}\">\n",
    "                </div>\n",
    "                <div style=\"text-align: center;\">\n",
    "                    <h3>{self.title}</h3>\n",
    "                    <p>Год: <strong>{self.year}</strong></p>\n",
    "                    <p>Оценка IMDb: <strong>{self.rating}</strong></p>\n",
    "                </div>\n",
    "            </div>\n",
    "            <div style=\"text-align: justify;\">\n",
    "                <h4>Краткое описание</h4>\n",
    "                <p>{self.description}</p>\n",
    "                <p>{deep_translate(self.description)}</p>\n",
    "            </div>\n",
    "        </div>\n",
    "        \"\"\"\n",
    "        display(HTML(html))"
   ]
  },
  {
   "cell_type": "code",
   "execution_count": 8,
   "metadata": {},
   "outputs": [],
   "source": [
    "url = 'https://www.imdb.com/chart/top/'"
   ]
  },
  {
   "cell_type": "code",
   "execution_count": 9,
   "metadata": {},
   "outputs": [],
   "source": [
    "response = session.get(url, headers=headers)\n",
    "response.raise_for_status()"
   ]
  },
  {
   "cell_type": "code",
   "execution_count": 10,
   "metadata": {},
   "outputs": [],
   "source": [
    "soup = BeautifulSoup(response.text, 'lxml')\n",
    "movies_html = soup.find('ul', role='presentation')"
   ]
  },
  {
   "cell_type": "code",
   "execution_count": 11,
   "metadata": {},
   "outputs": [],
   "source": [
    "movies = []\n",
    "for movie_html in movies_html.find_all('li'):\n",
    "    movies.append(Movie.from_li_str(str(movie_html)))"
   ]
  },
  {
   "cell_type": "code",
   "execution_count": 12,
   "metadata": {},
   "outputs": [
    {
     "data": {
      "text/html": [
       "\n",
       "        <div style=\"display: flex; flex-direction: column;\">\n",
       "            <div style=\"display: flex; flex-direction: row;\">\n",
       "                <div style=\"margin-right: 20px;\">\n",
       "                    <img src=\"https://m.media-amazon.com/images/M/MV5BMTkxNGFlNDktZmJkNC00MDdhLTg0MTEtZjZiYWI3MGE5NWIwXkEyXkFqcGc@._V1_QL75_UX140_CR0,5,140,207_.jpg\" alt=\"Звёздные войны. Эпизод 5: Империя наносит ответный удар\">\n",
       "                </div>\n",
       "                <div style=\"text-align: center;\">\n",
       "                    <h3>Звёздные войны. Эпизод 5: Империя наносит ответный удар</h3>\n",
       "                    <p>Год: <strong>1980</strong></p>\n",
       "                    <p>Оценка IMDb: <strong>8.7</strong></p>\n",
       "                </div>\n",
       "            </div>\n",
       "            <div style=\"text-align: justify;\">\n",
       "                <h4>Краткое описание</h4>\n",
       "                <p>After the Empire overpowers the Rebel Alliance, Luke Skywalker begins his Jedi training with Yoda. At the same time, Darth Vader and bounty hunter Boba Fett pursue his friends across the galaxy.</p>\n",
       "                <p>После того, как Империя побеждает Альянс повстанцев, Люк Скайуокер начинает свое обучение джедаям у Йоды. В то же время Дарт Вейдер и охотник за головами Боба Фетт преследуют его друзей по всей галактике.</p>\n",
       "            </div>\n",
       "        </div>\n",
       "        "
      ],
      "text/plain": [
       "<IPython.core.display.HTML object>"
      ]
     },
     "metadata": {},
     "output_type": "display_data"
    },
    {
     "data": {
      "text/html": [
       "\n",
       "        <div style=\"display: flex; flex-direction: column;\">\n",
       "            <div style=\"display: flex; flex-direction: row;\">\n",
       "                <div style=\"margin-right: 20px;\">\n",
       "                    <img src=\"https://m.media-amazon.com/images/M/MV5BMTZkMjBjNWMtZGI5OC00MGU0LTk4ZTItODg2NWM3NTVmNWQ4XkEyXkFqcGc@._V1_QL75_UX140_CR0,0,140,207_.jpg\" alt=\"Властелин колец: Возвращение короля\">\n",
       "                </div>\n",
       "                <div style=\"text-align: center;\">\n",
       "                    <h3>Властелин колец: Возвращение короля</h3>\n",
       "                    <p>Год: <strong>2003</strong></p>\n",
       "                    <p>Оценка IMDb: <strong>9.0</strong></p>\n",
       "                </div>\n",
       "            </div>\n",
       "            <div style=\"text-align: justify;\">\n",
       "                <h4>Краткое описание</h4>\n",
       "                <p>Gandalf and Aragorn lead the World of Men against Sauron's army to draw his gaze from Frodo and Sam as they approach Mount Doom with the One Ring.</p>\n",
       "                <p>Гэндальф и Арагорн ведут Мир Людей против армии Саурона, чтобы отвлечь его взгляд от Фродо и Сэма, когда они приближаются к Роковой горе с Единым Кольцом.</p>\n",
       "            </div>\n",
       "        </div>\n",
       "        "
      ],
      "text/plain": [
       "<IPython.core.display.HTML object>"
      ]
     },
     "metadata": {},
     "output_type": "display_data"
    },
    {
     "data": {
      "text/html": [
       "\n",
       "        <div style=\"display: flex; flex-direction: column;\">\n",
       "            <div style=\"display: flex; flex-direction: row;\">\n",
       "                <div style=\"margin-right: 20px;\">\n",
       "                    <img src=\"https://m.media-amazon.com/images/M/MV5BNzIxMDQ2YTctNDY4MC00ZTRhLTk4ODQtMTVlOWY4NTdiYmMwXkEyXkFqcGc@._V1_QL75_UX140_CR0,0,140,207_.jpg\" alt=\"Властелин колец: Братство кольца\">\n",
       "                </div>\n",
       "                <div style=\"text-align: center;\">\n",
       "                    <h3>Властелин колец: Братство кольца</h3>\n",
       "                    <p>Год: <strong>2001</strong></p>\n",
       "                    <p>Оценка IMDb: <strong>8.9</strong></p>\n",
       "                </div>\n",
       "            </div>\n",
       "            <div style=\"text-align: justify;\">\n",
       "                <h4>Краткое описание</h4>\n",
       "                <p>A meek Hobbit from the Shire and eight companions set out on a journey to destroy the powerful One Ring and save Middle-earth from the Dark Lord Sauron.</p>\n",
       "                <p>Кроткий хоббит из Шира и восемь его спутников отправляются в путешествие, чтобы уничтожить могущественное Единое Кольцо и спасти Средиземье от Темного Лорда Саурона.</p>\n",
       "            </div>\n",
       "        </div>\n",
       "        "
      ],
      "text/plain": [
       "<IPython.core.display.HTML object>"
      ]
     },
     "metadata": {},
     "output_type": "display_data"
    },
    {
     "data": {
      "text/html": [
       "\n",
       "        <div style=\"display: flex; flex-direction: column;\">\n",
       "            <div style=\"display: flex; flex-direction: row;\">\n",
       "                <div style=\"margin-right: 20px;\">\n",
       "                    <img src=\"https://m.media-amazon.com/images/M/MV5BMWM5ZjQxM2YtNDlmYi00ZDNhLWI4MWUtN2VkYjBlMTY1ZTkwXkEyXkFqcGc@._V1_QL75_UX140_CR0,1,140,207_.jpg\" alt=\"Хороший, плохой, злой\">\n",
       "                </div>\n",
       "                <div style=\"text-align: center;\">\n",
       "                    <h3>Хороший, плохой, злой</h3>\n",
       "                    <p>Год: <strong>1966</strong></p>\n",
       "                    <p>Оценка IMDb: <strong>8.8</strong></p>\n",
       "                </div>\n",
       "            </div>\n",
       "            <div style=\"text-align: justify;\">\n",
       "                <h4>Краткое описание</h4>\n",
       "                <p>A bounty hunting scam joins two men in an uneasy alliance against a third in a race to find a fortune in gold buried in a remote cemetery.</p>\n",
       "                <p>Мошенничество с охотой за головами объединяет двух мужчин в непростой союз против третьего в гонке за сокровищами в золоте, похороненными на отдаленном кладбище.</p>\n",
       "            </div>\n",
       "        </div>\n",
       "        "
      ],
      "text/plain": [
       "<IPython.core.display.HTML object>"
      ]
     },
     "metadata": {},
     "output_type": "display_data"
    },
    {
     "data": {
      "text/html": [
       "\n",
       "        <div style=\"display: flex; flex-direction: column;\">\n",
       "            <div style=\"display: flex; flex-direction: row;\">\n",
       "                <div style=\"margin-right: 20px;\">\n",
       "                    <img src=\"https://m.media-amazon.com/images/M/MV5BMTMxNTMwODM0NF5BMl5BanBnXkFtZTcwODAyMTk2Mw@@._V1_QL75_UX140_CR0,0,140,207_.jpg\" alt=\"Тёмный рыцарь\">\n",
       "                </div>\n",
       "                <div style=\"text-align: center;\">\n",
       "                    <h3>Тёмный рыцарь</h3>\n",
       "                    <p>Год: <strong>2008</strong></p>\n",
       "                    <p>Оценка IMDb: <strong>9.0</strong></p>\n",
       "                </div>\n",
       "            </div>\n",
       "            <div style=\"text-align: justify;\">\n",
       "                <h4>Краткое описание</h4>\n",
       "                <p>When a menace known as the Joker wreaks havoc and chaos on the people of Gotham, Batman, James Gordon and Harvey Dent must work together to put an end to the madness.</p>\n",
       "                <p>Когда угроза, известная как Джокер, сеет хаос и хаос среди жителей Готэма, Бэтмен, Джеймс Гордон и Харви Дент должны работать вместе, чтобы положить конец безумию.</p>\n",
       "            </div>\n",
       "        </div>\n",
       "        "
      ],
      "text/plain": [
       "<IPython.core.display.HTML object>"
      ]
     },
     "metadata": {},
     "output_type": "display_data"
    },
    {
     "data": {
      "text/html": [
       "\n",
       "        <div style=\"display: flex; flex-direction: column;\">\n",
       "            <div style=\"display: flex; flex-direction: row;\">\n",
       "                <div style=\"margin-right: 20px;\">\n",
       "                    <img src=\"https://m.media-amazon.com/images/M/MV5BMWU5Mjk5OGMtYTY2ZS00MGQ2LThiOWYtMWZlODRjYzhhYzA5XkEyXkFqcGc@._V1_QL75_UX140_CR0,2,140,207_.jpg\" alt=\"Эта замечательная жизнь\">\n",
       "                </div>\n",
       "                <div style=\"text-align: center;\">\n",
       "                    <h3>Эта замечательная жизнь</h3>\n",
       "                    <p>Год: <strong>1946</strong></p>\n",
       "                    <p>Оценка IMDb: <strong>8.6</strong></p>\n",
       "                </div>\n",
       "            </div>\n",
       "            <div style=\"text-align: justify;\">\n",
       "                <h4>Краткое описание</h4>\n",
       "                <p>An angel is sent from Heaven to help a desperately frustrated businessman by showing him what life would have been like if he had never existed.</p>\n",
       "                <p>Ангел послан с Небес, чтобы помочь отчаянно разочарованному бизнесмену, показав ему, какой была бы жизнь, если бы его никогда не существовало.</p>\n",
       "            </div>\n",
       "        </div>\n",
       "        "
      ],
      "text/plain": [
       "<IPython.core.display.HTML object>"
      ]
     },
     "metadata": {},
     "output_type": "display_data"
    },
    {
     "data": {
      "text/html": [
       "\n",
       "        <div style=\"display: flex; flex-direction: column;\">\n",
       "            <div style=\"display: flex; flex-direction: row;\">\n",
       "                <div style=\"margin-right: 20px;\">\n",
       "                    <img src=\"https://m.media-amazon.com/images/M/MV5BNjM1ZDQxYWUtMzQyZS00MTE1LWJmZGYtNGUyNTdlYjM3ZmVmXkEyXkFqcGc@._V1_QL75_UX140_CR0,1,140,207_.jpg\" alt=\"Список Шиндлера\">\n",
       "                </div>\n",
       "                <div style=\"text-align: center;\">\n",
       "                    <h3>Список Шиндлера</h3>\n",
       "                    <p>Год: <strong>1993</strong></p>\n",
       "                    <p>Оценка IMDb: <strong>9.0</strong></p>\n",
       "                </div>\n",
       "            </div>\n",
       "            <div style=\"text-align: justify;\">\n",
       "                <h4>Краткое описание</h4>\n",
       "                <p>In German-occupied Poland during World War II, industrialist Oskar Schindler gradually becomes concerned for his Jewish workforce after witnessing their persecution by the Nazis.</p>\n",
       "                <p>В оккупированной немцами Польше во время Второй мировой войны промышленник Оскар Шиндлер постепенно начинает беспокоиться о своей еврейской рабочей силе после того, как стал свидетелем их преследования со стороны нацистов.</p>\n",
       "            </div>\n",
       "        </div>\n",
       "        "
      ],
      "text/plain": [
       "<IPython.core.display.HTML object>"
      ]
     },
     "metadata": {},
     "output_type": "display_data"
    },
    {
     "data": {
      "text/html": [
       "\n",
       "        <div style=\"display: flex; flex-direction: column;\">\n",
       "            <div style=\"display: flex; flex-direction: row;\">\n",
       "                <div style=\"margin-right: 20px;\">\n",
       "                    <img src=\"https://m.media-amazon.com/images/M/MV5BMGQxMDdiOWUtYjc1Ni00YzM1LWE2NjMtZTg3Y2JkMjEzMTJjXkEyXkFqcGc@._V1_QL75_UX140_CR0,5,140,207_.jpg\" alt=\"Властелин колец: Две крепости\">\n",
       "                </div>\n",
       "                <div style=\"text-align: center;\">\n",
       "                    <h3>Властелин колец: Две крепости</h3>\n",
       "                    <p>Год: <strong>2002</strong></p>\n",
       "                    <p>Оценка IMDb: <strong>8.8</strong></p>\n",
       "                </div>\n",
       "            </div>\n",
       "            <div style=\"text-align: justify;\">\n",
       "                <h4>Краткое описание</h4>\n",
       "                <p>While Frodo and Sam edge closer to Mordor with the help of the shifty Gollum, the divided fellowship makes a stand against Sauron's new ally, Saruman, and his hordes of Isengard.</p>\n",
       "                <p>В то время как Фродо и Сэм приближаются к Мордору с помощью хитрого Голлума, разделенное братство противостоит новому союзнику Саурона, Саруману, и его ордам Изенгарда.</p>\n",
       "            </div>\n",
       "        </div>\n",
       "        "
      ],
      "text/plain": [
       "<IPython.core.display.HTML object>"
      ]
     },
     "metadata": {},
     "output_type": "display_data"
    },
    {
     "data": {
      "text/html": [
       "\n",
       "        <div style=\"display: flex; flex-direction: column;\">\n",
       "            <div style=\"display: flex; flex-direction: row;\">\n",
       "                <div style=\"margin-right: 20px;\">\n",
       "                    <img src=\"https://m.media-amazon.com/images/M/MV5BN2E5NzI2ZGMtY2VjNi00YTRjLWI1MDUtZGY5OWU1MWJjZjRjXkEyXkFqcGc@._V1_QL75_UX140_CR0,1,140,207_.jpg\" alt=\"Славные парни\">\n",
       "                </div>\n",
       "                <div style=\"text-align: center;\">\n",
       "                    <h3>Славные парни</h3>\n",
       "                    <p>Год: <strong>1990</strong></p>\n",
       "                    <p>Оценка IMDb: <strong>8.7</strong></p>\n",
       "                </div>\n",
       "            </div>\n",
       "            <div style=\"text-align: justify;\">\n",
       "                <h4>Краткое описание</h4>\n",
       "                <p>The story of Henry Hill and his life in the mafia, covering his relationship with his wife Karen and his mob partners Jimmy Conway and Tommy DeVito.</p>\n",
       "                <p>История Генри Хилла и его жизни в мафии, освещающая его отношения с женой Карен и партнерами по мафии Джимми Конвеем и Томми ДеВито.</p>\n",
       "            </div>\n",
       "        </div>\n",
       "        "
      ],
      "text/plain": [
       "<IPython.core.display.HTML object>"
      ]
     },
     "metadata": {},
     "output_type": "display_data"
    },
    {
     "data": {
      "text/html": [
       "\n",
       "        <div style=\"display: flex; flex-direction: column;\">\n",
       "            <div style=\"display: flex; flex-direction: row;\">\n",
       "                <div style=\"margin-right: 20px;\">\n",
       "                    <img src=\"https://m.media-amazon.com/images/M/MV5BNDdhOGJhYzctYzYwZC00YmI2LWI0MjctYjg4ODdlMDExYjBlXkEyXkFqcGc@._V1_QL75_UY207_CR0,0,140,207_.jpg\" alt=\"Молчание ягнят\">\n",
       "                </div>\n",
       "                <div style=\"text-align: center;\">\n",
       "                    <h3>Молчание ягнят</h3>\n",
       "                    <p>Год: <strong>1991</strong></p>\n",
       "                    <p>Оценка IMDb: <strong>8.6</strong></p>\n",
       "                </div>\n",
       "            </div>\n",
       "            <div style=\"text-align: justify;\">\n",
       "                <h4>Краткое описание</h4>\n",
       "                <p>A young F.B.I. cadet must receive the help of an incarcerated and manipulative cannibal killer to help catch another serial killer, a madman who skins his victims.</p>\n",
       "                <p>Молодой Ф.Б.И. Курсант должен получить помощь заключенного в тюрьму и манипулирующего убийцы-каннибала, чтобы помочь поймать другого серийного убийцу, сумасшедшего, который сдирает шкуру со своих жертв.</p>\n",
       "            </div>\n",
       "        </div>\n",
       "        "
      ],
      "text/plain": [
       "<IPython.core.display.HTML object>"
      ]
     },
     "metadata": {},
     "output_type": "display_data"
    }
   ],
   "source": [
    "random_movies = random.sample(movies, 10)\n",
    "for movie in random_movies:\n",
    "    movie.display_movie()"
   ]
  }
 ],
 "metadata": {
  "kernelspec": {
   "display_name": "Python 3",
   "language": "python",
   "name": "python3"
  },
  "language_info": {
   "codemirror_mode": {
    "name": "ipython",
    "version": 3
   },
   "file_extension": ".py",
   "mimetype": "text/x-python",
   "name": "python",
   "nbconvert_exporter": "python",
   "pygments_lexer": "ipython3",
   "version": "3.12.3"
  }
 },
 "nbformat": 4,
 "nbformat_minor": 2
}
