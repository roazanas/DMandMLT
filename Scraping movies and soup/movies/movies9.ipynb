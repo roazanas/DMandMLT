{
 "cells": [
  {
   "cell_type": "markdown",
   "metadata": {},
   "source": [
    "9. Суммируя весь предыдущий опыт напишите программу, которая будет скрейпить данные из imdb. Рекомендуемые библиотеки: BeautifulSoup, requests и random. Программа должна выполнять следующий функционал:\n",
    "\n",
    "    a. При запуске программа должна подключаться к странице https://www.imdb.com/chart/top\n",
    "\n",
    "    b. Собирать список фильмов (и по вашему желанию их описание)\n",
    "\n",
    "    c. Выводить 10 случайных фильмов"
   ]
  },
  {
   "cell_type": "code",
   "execution_count": 18,
   "metadata": {},
   "outputs": [
    {
     "name": "stdout",
     "output_type": "stream",
     "text": [
      "Requirement already satisfied: requests in c:\\users\\ntikh\\appdata\\local\\programs\\python\\python312\\lib\\site-packages (from -r requirements.txt (line 1)) (2.32.3)\n",
      "Requirement already satisfied: bs4 in c:\\users\\ntikh\\appdata\\local\\programs\\python\\python312\\lib\\site-packages (from -r requirements.txt (line 2)) (0.0.2)\n",
      "Requirement already satisfied: lxml in c:\\users\\ntikh\\appdata\\local\\programs\\python\\python312\\lib\\site-packages (from -r requirements.txt (line 3)) (5.3.0)\n",
      "Requirement already satisfied: charset-normalizer<4,>=2 in c:\\users\\ntikh\\appdata\\local\\programs\\python\\python312\\lib\\site-packages (from requests->-r requirements.txt (line 1)) (3.3.2)\n",
      "Requirement already satisfied: idna<4,>=2.5 in c:\\users\\ntikh\\appdata\\local\\programs\\python\\python312\\lib\\site-packages (from requests->-r requirements.txt (line 1)) (3.7)\n",
      "Requirement already satisfied: urllib3<3,>=1.21.1 in c:\\users\\ntikh\\appdata\\local\\programs\\python\\python312\\lib\\site-packages (from requests->-r requirements.txt (line 1)) (2.2.1)\n",
      "Requirement already satisfied: certifi>=2017.4.17 in c:\\users\\ntikh\\appdata\\local\\programs\\python\\python312\\lib\\site-packages (from requests->-r requirements.txt (line 1)) (2024.2.2)\n",
      "Requirement already satisfied: beautifulsoup4 in c:\\users\\ntikh\\appdata\\local\\programs\\python\\python312\\lib\\site-packages (from bs4->-r requirements.txt (line 2)) (4.12.3)\n",
      "Requirement already satisfied: soupsieve>1.2 in c:\\users\\ntikh\\appdata\\local\\programs\\python\\python312\\lib\\site-packages (from beautifulsoup4->bs4->-r requirements.txt (line 2)) (2.5)\n",
      "Note: you may need to restart the kernel to use updated packages.\n"
     ]
    }
   ],
   "source": [
    "%pip install -r requirements.txt"
   ]
  },
  {
   "cell_type": "code",
   "execution_count": 19,
   "metadata": {},
   "outputs": [],
   "source": [
    "import requests\n",
    "from bs4 import BeautifulSoup\n",
    "import random\n",
    "from IPython.display import HTML, display"
   ]
  },
  {
   "cell_type": "code",
   "execution_count": null,
   "metadata": {},
   "outputs": [],
   "source": [
    "class Movie:\n",
    "    def __init__(self, poster_url, title, year, rating, description=''):\n",
    "        self.poster_url = poster_url\n",
    "        self.title = title\n",
    "        self.year = year\n",
    "        self.rating = rating\n",
    "        self.description = description\n",
    "    \n",
    "    @classmethod\n",
    "    def from_li_str(cls, li_str):\n",
    "        soup = BeautifulSoup(li_str, 'lxml')\n",
    "        poster_url = soup.find('img')['src']\n",
    "        title_full = soup.find('h3', class_='ipc-title__text').text.strip()\n",
    "        title = title_full.split('. ', 1)[1] if '. ' in title_full else title_full\n",
    "        year = soup.find('span', class_='cli-title-metadata-item').text.strip()[:4]\n",
    "        rating = soup.find('span', class_='ipc-rating-star--imdb').text.strip()[:3]\n",
    "        return cls(poster_url, title, year, rating)\n",
    "\n",
    "    def get_dict(self):\n",
    "        return {'poster': self.poster_url, \n",
    "                'title': self.title, \n",
    "                'year': self.year, \n",
    "                'rating': self.rating, \n",
    "                'description': self.description}\n",
    "    \n",
    "    def display_movie(self):\n",
    "        html = f\"\"\"\n",
    "        <div style=\"display: flex; align-items: center; margin-bottom: 20px;\">\n",
    "            <div style=\"margin-right: 20px;\">\n",
    "                <img src=\"{self.poster_url}\" alt=\"{self.title}\" style=\"width: 150px; height: auto;\">\n",
    "            </div>\n",
    "            <div>\n",
    "                <h3>{self.title}</h3>\n",
    "                <p>Год: <strong>{self.year}</strong></p>\n",
    "                <p>Оценка IMDb: <strong>{self.rating}</strong></p>\n",
    "            </div>\n",
    "        </div>\n",
    "        \"\"\"\n",
    "        display(HTML(html))"
   ]
  },
  {
   "cell_type": "code",
   "execution_count": 39,
   "metadata": {},
   "outputs": [],
   "source": [
    "url = 'https://www.imdb.com/chart/top/'"
   ]
  },
  {
   "cell_type": "code",
   "execution_count": 40,
   "metadata": {},
   "outputs": [],
   "source": [
    "headers = {\n",
    "    'User-Agent': 'Mozilla/5.0 (Windows NT 10.0; Win64; x64) AppleWebKit/537.36 (KHTML, like Gecko) Chrome/58.0.3029.110 Safari/537.3'\n",
    "}\n",
    "response = requests.get(url, headers=headers)\n",
    "response.raise_for_status()"
   ]
  },
  {
   "cell_type": "code",
   "execution_count": 41,
   "metadata": {},
   "outputs": [],
   "source": [
    "soup = BeautifulSoup(response.text, 'lxml')\n",
    "movies_html = soup.find('ul', role='presentation')"
   ]
  },
  {
   "cell_type": "code",
   "execution_count": 42,
   "metadata": {},
   "outputs": [],
   "source": [
    "movies = []\n",
    "for movie_html in movies_html.find_all('li'):\n",
    "    movies.append(Movie.from_li_str(str(movie_html)))"
   ]
  },
  {
   "cell_type": "code",
   "execution_count": 43,
   "metadata": {},
   "outputs": [
    {
     "data": {
      "text/html": [
       "\n",
       "        <div style=\"display: flex; align-items: center; margin-bottom: 20px;\">\n",
       "            <div style=\"margin-right: 20px;\">\n",
       "                <img src=\"https://m.media-amazon.com/images/M/MV5BYzdjMDAxZGItMjI2My00ODA1LTlkNzItOWFjMDU5ZDJlYWY3XkEyXkFqcGc@._V1_QL75_UX140_CR0,0,140,207_.jpg\" alt=\"Интерстеллар\" style=\"width: 150px; height: auto;\">\n",
       "            </div>\n",
       "            <div>\n",
       "                <h3>Интерстеллар</h3>\n",
       "                <p>Год: <strong>2014</strong></p>\n",
       "                <p>Оценка IMDb: <strong>8.7</strong></p>\n",
       "            </div>\n",
       "        </div>\n",
       "        "
      ],
      "text/plain": [
       "<IPython.core.display.HTML object>"
      ]
     },
     "metadata": {},
     "output_type": "display_data"
    },
    {
     "data": {
      "text/html": [
       "\n",
       "        <div style=\"display: flex; align-items: center; margin-bottom: 20px;\">\n",
       "            <div style=\"margin-right: 20px;\">\n",
       "                <img src=\"https://m.media-amazon.com/images/M/MV5BMDAyY2FhYjctNDc5OS00MDNlLThiMGUtY2UxYWVkNGY2ZjljXkEyXkFqcGc@._V1_QL75_UX140_CR0,1,140,207_.jpg\" alt=\"Побег из Шоушенка\" style=\"width: 150px; height: auto;\">\n",
       "            </div>\n",
       "            <div>\n",
       "                <h3>Побег из Шоушенка</h3>\n",
       "                <p>Год: <strong>1994</strong></p>\n",
       "                <p>Оценка IMDb: <strong>9.3</strong></p>\n",
       "            </div>\n",
       "        </div>\n",
       "        "
      ],
      "text/plain": [
       "<IPython.core.display.HTML object>"
      ]
     },
     "metadata": {},
     "output_type": "display_data"
    },
    {
     "data": {
      "text/html": [
       "\n",
       "        <div style=\"display: flex; align-items: center; margin-bottom: 20px;\">\n",
       "            <div style=\"margin-right: 20px;\">\n",
       "                <img src=\"https://m.media-amazon.com/images/M/MV5BNDYwNzVjMTItZmU5YS00YjQ5LTljYjgtMjY2NDVmYWMyNWFmXkEyXkFqcGc@._V1_QL75_UY207_CR2,0,140,207_.jpg\" alt=\"Форрест Гамп\" style=\"width: 150px; height: auto;\">\n",
       "            </div>\n",
       "            <div>\n",
       "                <h3>Форрест Гамп</h3>\n",
       "                <p>Год: <strong>1994</strong></p>\n",
       "                <p>Оценка IMDb: <strong>8.8</strong></p>\n",
       "            </div>\n",
       "        </div>\n",
       "        "
      ],
      "text/plain": [
       "<IPython.core.display.HTML object>"
      ]
     },
     "metadata": {},
     "output_type": "display_data"
    },
    {
     "data": {
      "text/html": [
       "\n",
       "        <div style=\"display: flex; align-items: center; margin-bottom: 20px;\">\n",
       "            <div style=\"margin-right: 20px;\">\n",
       "                <img src=\"https://m.media-amazon.com/images/M/MV5BYjY4NGI5OTUtY2ZlZS00Zjk4LTk5N2MtN2JmYWVjNGNmMGRlXkEyXkFqcGc@._V1_QL75_UY207_CR0,0,140,207_.jpg\" alt=\"Город Бога\" style=\"width: 150px; height: auto;\">\n",
       "            </div>\n",
       "            <div>\n",
       "                <h3>Город Бога</h3>\n",
       "                <p>Год: <strong>2002</strong></p>\n",
       "                <p>Оценка IMDb: <strong>8.6</strong></p>\n",
       "            </div>\n",
       "        </div>\n",
       "        "
      ],
      "text/plain": [
       "<IPython.core.display.HTML object>"
      ]
     },
     "metadata": {},
     "output_type": "display_data"
    },
    {
     "data": {
      "text/html": [
       "\n",
       "        <div style=\"display: flex; align-items: center; margin-bottom: 20px;\">\n",
       "            <div style=\"margin-right: 20px;\">\n",
       "                <img src=\"https://m.media-amazon.com/images/M/MV5BZGZhZGQ1ZWUtZTZjYS00MDJhLWFkYjctN2ZlYjE5NWYwZDM2XkEyXkFqcGc@._V1_QL75_UY207_CR1,0,140,207_.jpg\" alt=\"Спасти рядового Райана\" style=\"width: 150px; height: auto;\">\n",
       "            </div>\n",
       "            <div>\n",
       "                <h3>Спасти рядового Райана</h3>\n",
       "                <p>Год: <strong>1998</strong></p>\n",
       "                <p>Оценка IMDb: <strong>8.6</strong></p>\n",
       "            </div>\n",
       "        </div>\n",
       "        "
      ],
      "text/plain": [
       "<IPython.core.display.HTML object>"
      ]
     },
     "metadata": {},
     "output_type": "display_data"
    },
    {
     "data": {
      "text/html": [
       "\n",
       "        <div style=\"display: flex; align-items: center; margin-bottom: 20px;\">\n",
       "            <div style=\"margin-right: 20px;\">\n",
       "                <img src=\"https://m.media-amazon.com/images/M/MV5BNjM1ZDQxYWUtMzQyZS00MTE1LWJmZGYtNGUyNTdlYjM3ZmVmXkEyXkFqcGc@._V1_QL75_UX140_CR0,1,140,207_.jpg\" alt=\"Список Шиндлера\" style=\"width: 150px; height: auto;\">\n",
       "            </div>\n",
       "            <div>\n",
       "                <h3>Список Шиндлера</h3>\n",
       "                <p>Год: <strong>1993</strong></p>\n",
       "                <p>Оценка IMDb: <strong>9.0</strong></p>\n",
       "            </div>\n",
       "        </div>\n",
       "        "
      ],
      "text/plain": [
       "<IPython.core.display.HTML object>"
      ]
     },
     "metadata": {},
     "output_type": "display_data"
    },
    {
     "data": {
      "text/html": [
       "\n",
       "        <div style=\"display: flex; align-items: center; margin-bottom: 20px;\">\n",
       "            <div style=\"margin-right: 20px;\">\n",
       "                <img src=\"https://m.media-amazon.com/images/M/MV5BNDdhOGJhYzctYzYwZC00YmI2LWI0MjctYjg4ODdlMDExYjBlXkEyXkFqcGc@._V1_QL75_UY207_CR0,0,140,207_.jpg\" alt=\"Молчание ягнят\" style=\"width: 150px; height: auto;\">\n",
       "            </div>\n",
       "            <div>\n",
       "                <h3>Молчание ягнят</h3>\n",
       "                <p>Год: <strong>1991</strong></p>\n",
       "                <p>Оценка IMDb: <strong>8.6</strong></p>\n",
       "            </div>\n",
       "        </div>\n",
       "        "
      ],
      "text/plain": [
       "<IPython.core.display.HTML object>"
      ]
     },
     "metadata": {},
     "output_type": "display_data"
    },
    {
     "data": {
      "text/html": [
       "\n",
       "        <div style=\"display: flex; align-items: center; margin-bottom: 20px;\">\n",
       "            <div style=\"margin-right: 20px;\">\n",
       "                <img src=\"https://m.media-amazon.com/images/M/MV5BODlkMWE1NzAtZTMzMS00MTk5LWE1ZDUtMmQxMGJiYzNkZDk4XkEyXkFqcGc@._V1_QL75_UX140_CR0,1,140,207_.jpg\" alt=\"Криминальное чтиво\" style=\"width: 150px; height: auto;\">\n",
       "            </div>\n",
       "            <div>\n",
       "                <h3>Криминальное чтиво</h3>\n",
       "                <p>Год: <strong>1994</strong></p>\n",
       "                <p>Оценка IMDb: <strong>8.9</strong></p>\n",
       "            </div>\n",
       "        </div>\n",
       "        "
      ],
      "text/plain": [
       "<IPython.core.display.HTML object>"
      ]
     },
     "metadata": {},
     "output_type": "display_data"
    },
    {
     "data": {
      "text/html": [
       "\n",
       "        <div style=\"display: flex; align-items: center; margin-bottom: 20px;\">\n",
       "            <div style=\"margin-right: 20px;\">\n",
       "                <img src=\"https://m.media-amazon.com/images/M/MV5BMWU5Mjk5OGMtYTY2ZS00MGQ2LThiOWYtMWZlODRjYzhhYzA5XkEyXkFqcGc@._V1_QL75_UX140_CR0,2,140,207_.jpg\" alt=\"Эта замечательная жизнь\" style=\"width: 150px; height: auto;\">\n",
       "            </div>\n",
       "            <div>\n",
       "                <h3>Эта замечательная жизнь</h3>\n",
       "                <p>Год: <strong>1946</strong></p>\n",
       "                <p>Оценка IMDb: <strong>8.6</strong></p>\n",
       "            </div>\n",
       "        </div>\n",
       "        "
      ],
      "text/plain": [
       "<IPython.core.display.HTML object>"
      ]
     },
     "metadata": {},
     "output_type": "display_data"
    },
    {
     "data": {
      "text/html": [
       "\n",
       "        <div style=\"display: flex; align-items: center; margin-bottom: 20px;\">\n",
       "            <div style=\"margin-right: 20px;\">\n",
       "                <img src=\"https://m.media-amazon.com/images/M/MV5BMTZkMjBjNWMtZGI5OC00MGU0LTk4ZTItODg2NWM3NTVmNWQ4XkEyXkFqcGc@._V1_QL75_UX140_CR0,0,140,207_.jpg\" alt=\"Властелин колец: Возвращение короля\" style=\"width: 150px; height: auto;\">\n",
       "            </div>\n",
       "            <div>\n",
       "                <h3>Властелин колец: Возвращение короля</h3>\n",
       "                <p>Год: <strong>2003</strong></p>\n",
       "                <p>Оценка IMDb: <strong>9.0</strong></p>\n",
       "            </div>\n",
       "        </div>\n",
       "        "
      ],
      "text/plain": [
       "<IPython.core.display.HTML object>"
      ]
     },
     "metadata": {},
     "output_type": "display_data"
    }
   ],
   "source": [
    "random_movies = random.sample(movies, 10)\n",
    "for movie in random_movies:\n",
    "    movie.display_movie()"
   ]
  }
 ],
 "metadata": {
  "kernelspec": {
   "display_name": "Python 3",
   "language": "python",
   "name": "python3"
  },
  "language_info": {
   "codemirror_mode": {
    "name": "ipython",
    "version": 3
   },
   "file_extension": ".py",
   "mimetype": "text/x-python",
   "name": "python",
   "nbconvert_exporter": "python",
   "pygments_lexer": "ipython3",
   "version": "3.12.3"
  }
 },
 "nbformat": 4,
 "nbformat_minor": 2
}
